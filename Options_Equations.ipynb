{
 "cells": [
  {
   "cell_type": "code",
   "execution_count": 11,
   "metadata": {
    "collapsed": true
   },
   "outputs": [],
   "source": [
    "#Implementing the Black-Scholes in Python\n",
    "#Daniel Ying and Erick Mokaya\n",
    "#The Black-Scholes formula is used to price European call and put options. It is a solution to\n",
    "#the Black-Scholes Partial Differential Equation given below:\n",
    "\n",
    "#T - Time to maturity\n",
    "#St – The current Stock Price\n",
    "#R – The risk free interest rate\n",
    "#N(x) – The cumulative normal distribution evaluated at x\n",
    "#v- The volatility\n",
    "#K – The Strike Price\n",
    "#It is assumed that the stock will not pay dividends during the period.\n",
    "#We successfully implemented the Black-Scholes model in Python using the attached code and\n",
    "#used it to value call and put options. The values generated have been plotted as function of the\n",
    "#strike Price. Further, different graphs with different times to maturity were generated showing\n",
    "#clearly how the solutions converge to a hockey stick as maturity nears. As an aside, we have\n",
    "#also created a code for calculating the Greeks in Black Scholes."
   ]
  },
  {
   "cell_type": "code",
   "execution_count": 12,
   "metadata": {
    "collapsed": false
   },
   "outputs": [
    {
     "data": {
      "text/plain": [
       "<matplotlib.figure.Figure at 0x1105e1668>"
      ]
     },
     "metadata": {},
     "output_type": "display_data"
    },
    {
     "data": {
      "image/png": "[encoded data removed]",
      "text/plain": [
       "<matplotlib.figure.Figure at 0x10cb91b00>"
      ]
     },
     "metadata": {},
     "output_type": "display_data"
    }
   ],
   "source": [
    "#For a European call\n",
    "\"\"\"\n",
    "# The Black Scholes Formula\n",
    "# CallPutFlag - This is set to 'c' for call option, anything else for put\n",
    "# S - Stock price\n",
    "# K - Strike price\n",
    "# T - Time to maturity\n",
    "# r - Riskfree interest rate\n",
    "# d - Dividend yield\n",
    "# v - Volatility\n",
    "\"\"\"\n",
    "%matplotlib inline\n",
    "from scipy.stats import norm\n",
    "from math import *\n",
    "import matplotlib.animation as animation\n",
    "import matplotlib.pyplot as plt\n",
    "import numpy as np\n",
    "\n",
    "def BlackScholes(CallPutFlag,S,K,T,r,d,v):\n",
    "    d1 = (log(float(S)/K)+((r-d)+v*v/2.)*T)/(v*sqrt(T))\n",
    "    d2 = d1-v*sqrt(T)\n",
    "    if CallPutFlag=='c':\n",
    "        return S*exp(-d*T)*norm.cdf(d1)-K*exp(-r*T)*norm.cdf(d2)\n",
    "    else:\n",
    "        return K*exp(-r*T)*norm.cdf(-d2)-S*exp(-d*T)*norm.cdf(-d1)\n",
    "\n",
    "def update(step):\n",
    "    p = []\n",
    "    for i in S:\n",
    "        p.append(BlackScholes('c', i, 100, step, 0.06, 0, 0.4))\n",
    "    line.set_ydata(p)\n",
    "\n",
    "def data_gen():\n",
    "    expStop = 0.0005\n",
    "    expStart = 1.5\n",
    "    T = np.linspace(expStop,expStart,200)\n",
    "    m = -log(expStop/expStart)/expStart\n",
    "    for t in T:\n",
    "        yield expStart*exp(-m*t)\n",
    "\n",
    "\n",
    "plt.clf()\n",
    "fig,ax = plt.subplots()\n",
    "maturity = 0\n",
    "S = np.linspace(80,120,200)\n",
    "p = []\n",
    "for i in S:\n",
    "    p.append(BlackScholes('c', i, 100, 0.005, 0.06, 0, 0.4))\n",
    "line, = ax.plot(p)\n",
    "#ax.set_ylim()    \n",
    "ani = animation.FuncAnimation(fig, update, data_gen, interval=100)\n",
    "plt.show()"
   ]
  },
  {
   "cell_type": "code",
   "execution_count": 13,
   "metadata": {
    "collapsed": false
   },
   "outputs": [
    {
     "data": {
      "text/plain": [
       "<matplotlib.figure.Figure at 0x10520ccf8>"
      ]
     },
     "metadata": {},
     "output_type": "display_data"
    },
    {
     "data": {
      "image/png": "[encoded data removed]",
      "text/plain": [
       "<matplotlib.figure.Figure at 0x10c5c8eb8>"
      ]
     },
     "metadata": {},
     "output_type": "display_data"
    }
   ],
   "source": [
    "#For a European Put\n",
    "\"\"\"\n",
    "# The Black Scholes Formula\n",
    "# CallPutFlag - This is set to 'c' for call option, anything else for put\n",
    "# S - Stock price\n",
    "# K - Strike price\n",
    "# T - Time to maturity\n",
    "# r - Riskfree interest rate\n",
    "# d - Dividend yield\n",
    "# v - Volatility\n",
    "\"\"\"\n",
    "from scipy.stats import norm\n",
    "from math import *\n",
    "import matplotlib.animation as animation\n",
    "import matplotlib.pyplot as plt\n",
    "import numpy as np\n",
    "\n",
    "def BlackScholes(CallPutFlag,S,K,T,r,d,v):\n",
    "    d1 = (log(float(S)/K)+((r-d)+v*v/2.)*T)/(v*sqrt(T))\n",
    "    d2 = d1-v*sqrt(T)\n",
    "    if CallPutFlag=='c':\n",
    "        return S*exp(-d*T)*norm.cdf(d1)-K*exp(-r*T)*norm.cdf(d2)\n",
    "    else:\n",
    "        return K*exp(-r*T)*norm.cdf(-d2)-S*exp(-d*T)*norm.cdf(-d1)\n",
    "def update(step):\n",
    "    p = []\n",
    "    for i in S:\n",
    "        p.append(BlackScholes('p', i, 100, step, 0.06, 0, 0.4))\n",
    "    line.set_ydata(p)\n",
    "\n",
    "def data_gen():\n",
    "    expStop = 0.0005\n",
    "    expStart = 1.5\n",
    "    T = np.linspace(expStop,expStart,200)\n",
    "    m = -log(expStop/expStart)/expStart\n",
    "    for t in T:\n",
    "        yield expStart*exp(-m*t)\n",
    "\n",
    "        \n",
    "plt.clf()\n",
    "fig,ax = plt.subplots()\n",
    "maturity = 0\n",
    "S = np.linspace(80,120,200)\n",
    "p = []\n",
    "for i in S:\n",
    "    p.append(BlackScholes('p', i, 100, 0.005, 0.06, 0, 0.4))\n",
    "line, = ax.plot(p)\n",
    "#ax.set_ylim()\n",
    "    \n",
    "ani = animation.FuncAnimation(fig, update, data_gen, interval=100)\n",
    "plt.show()"
   ]
  },
  {
   "cell_type": "code",
   "execution_count": 14,
   "metadata": {
    "collapsed": false
   },
   "outputs": [
    {
     "name": "stdout",
     "output_type": "stream",
     "text": [
      "(0.5285710345530259, 0.10486079971293322, -2.1437085315040076, 25.166591931103973, 20.497130933696781)\n"
     ]
    }
   ],
   "source": [
    "# The Greeks\n",
    "\"\"\"Calculating the partial derivatives for a Black Scholes Option (Call)\n",
    "# S - Stock price\n",
    "# K - Strike price\n",
    "# T - Time to maturity\n",
    "# r - Riskfree interest rate\n",
    "# d - Dividend yield\n",
    "# v - Volatility\n",
    "Return:\n",
    "Delta: partial wrt S\n",
    "Gamma: second partial wrt S\n",
    "Theta: partial wrt T\n",
    "Vega: partial wrt v\n",
    "Rho: partial wrt r\n",
    "\"\"\"\n",
    "from scipy.stats import norm\n",
    "from math import *\n",
    "\n",
    "def Black_Scholes_Greeks_Call(S, K, r, v, T, d):\n",
    "    T_sqrt = sqrt(T)\n",
    "    d1 = (log(float(S)/K)+((r-d)+v*v/2.)*T)/(v*T_sqrt)\n",
    "    d2 = d1-v*T_sqrt\n",
    "    Delta = norm.cdf(d1)\n",
    "    Gamma = norm.pdf(d1)/(S*v*T_sqrt)\n",
    "    Theta =- (S*v*norm.pdf(d1))/(2*T_sqrt) - r*K*exp( -r*T)*norm.cdf(d2)\n",
    "    Vega = S * T_sqrt*norm.pdf(d1)\n",
    "    Rho = K*T*exp(-r*T)*norm.cdf(d2)\n",
    "    return Delta, Gamma, Theta, Vega, Rho\n",
    "\n",
    "print ( Black_Scholes_Greeks_Call(100, 100, 0.005, 0.06, 0.4, 0) )"
   ]
  },
  {
   "cell_type": "code",
   "execution_count": 15,
   "metadata": {
    "collapsed": false
   },
   "outputs": [
    {
     "name": "stdout",
     "output_type": "stream",
     "text": [
      "(-0.47142896544697405, 0.10486079971293322, -1.644707532170341, 25.166591931103973, -19.42294901299654)\n"
     ]
    }
   ],
   "source": [
    "\"\"\"Calculating the partial derivatives for a Black Scholes Option (Put)\n",
    "# S - Stock price\n",
    "# K - Strike price\n",
    "# T - Time to maturity\n",
    "# r - Riskfree interest rate\n",
    "# d - Dividend yield\n",
    "# v - Volatility\n",
    "Return:\n",
    "Delta: partial wrt S\n",
    "Gamma: second partial wrt S\n",
    "Theta: partial wrt T\n",
    "Vega: partial wrt v\n",
    "Rho: partial wrt r\n",
    "\"\"\"\n",
    "6\n",
    "from scipy.stats import norm\n",
    "from math import *\n",
    "def Black_Scholes_Greeks_Put(S, K, r, v, T, d):\n",
    "    \"\"\"Calculate partial derivatives for a Black Scholes Option (Put)\n",
    "    \"\"\"\n",
    "    T_sqrt = sqrt(T)\n",
    "    d1 = (log(float(S)/K)+r*T)/(v*T_sqrt) + 0.5*v*T_sqrt\n",
    "    d2 = d1-(v*T_sqrt)\n",
    "    Delta = -norm.cdf(-d1)\n",
    "    Gamma = norm.pdf(d1)/(S*v*T_sqrt)\n",
    "    Theta = -(S*v*norm.pdf(d1)) / (2*T_sqrt)+ r*K * exp(-r*T) * norm.cdf(-d2)\n",
    "    Vega = S * T_sqrt * norm.pdf(d1)\n",
    "    Rho = -K*T*exp(-r*T) * norm.cdf(-d2)\n",
    "    return Delta, Gamma, Theta, Vega, Rho\n",
    "\n",
    "print ( Black_Scholes_Greeks_Put(100, 100, 0.005, 0.06, 0.4, 0) )"
   ]
  },
  {
   "cell_type": "code",
   "execution_count": null,
   "metadata": {
    "collapsed": true
   },
   "outputs": [],
   "source": []
  },
  {
   "cell_type": "code",
   "execution_count": null,
   "metadata": {
    "collapsed": true
   },
   "outputs": [],
   "source": []
  },
  {
   "cell_type": "code",
   "execution_count": null,
   "metadata": {
    "collapsed": true
   },
   "outputs": [],
   "source": []
  },
  {
   "cell_type": "code",
   "execution_count": null,
   "metadata": {
    "collapsed": true
   },
   "outputs": [],
   "source": []
  },
  {
   "cell_type": "code",
   "execution_count": null,
   "metadata": {
    "collapsed": true
   },
   "outputs": [],
   "source": []
  },
  {
   "cell_type": "code",
   "execution_count": null,
   "metadata": {
    "collapsed": true
   },
   "outputs": [],
   "source": []
  }
 ],
 "metadata": {
  "kernelspec": {
   "display_name": "Python [conda root]",
   "language": "python",
   "name": "conda-root-py"
  },
  "language_info": {
   "codemirror_mode": {
    "name": "ipython",
    "version": 3
   },
   "file_extension": ".py",
   "mimetype": "text/x-python",
   "name": "python",
   "nbconvert_exporter": "python",
   "pygments_lexer": "ipython3",
   "version": "3.5.2"
  }
 },
 "nbformat": 4,
 "nbformat_minor": 0
}
