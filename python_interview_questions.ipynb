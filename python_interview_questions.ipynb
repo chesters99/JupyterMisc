{
 "cells": [
  {
   "cell_type": "code",
   "execution_count": null,
   "metadata": {
    "collapsed": false
   },
   "outputs": [],
   "source": [
    "import sys\n",
    "\n",
    "data=[]\n",
    "q=[]\n",
    "for i in range(10):\n",
    "    a=len(data)\n",
    "    b=sys.getsizeof(data)\n",
    "    c=id(data)\n",
    "    print (\"len= \",a,\" bytes=\", b, ' addr=', c)\n",
    "    data= data + ['a']\n",
    "    q.append('a')"
   ]
  },
  {
   "cell_type": "code",
   "execution_count": null,
   "metadata": {
    "collapsed": false
   },
   "outputs": [],
   "source": [
    "def anagram(s1,s2):\n",
    "    the1 = s1.replace(' ','').lower()\n",
    "    the2 = s2.replace(' ','').lower()\n",
    "    return sorted(the1) == sorted(the2)\n",
    "\n",
    "def anagram2(s1, s2):\n",
    "    s1 = s1.replace(' ','').lower()\n",
    "    s2 = s2.replace(' ','').lower()\n",
    "    \n",
    "    freq1 = {}\n",
    "    for c1 in s1:\n",
    "        if c1 in freq1:\n",
    "            freq1[c1] +=1\n",
    "        else:\n",
    "            freq1[c1] = 1\n",
    "            \n",
    "    freq2 = {}      \n",
    "    for c2 in s2:\n",
    "        if c2 in freq2:\n",
    "            freq2[c2] +=1\n",
    "        else:\n",
    "            freq2[c2] = 1\n",
    "\n",
    "    return freq1 == freq2"
   ]
  },
  {
   "cell_type": "code",
   "execution_count": null,
   "metadata": {
    "collapsed": false
   },
   "outputs": [],
   "source": [
    "anagram2('Clint Eastwood','old west action')"
   ]
  },
  {
   "cell_type": "code",
   "execution_count": null,
   "metadata": {
    "collapsed": false
   },
   "outputs": [],
   "source": [
    "\"\"\"\n",
    "RUN THIS CELL TO TEST YOUR SOLUTION\n",
    "\"\"\"\n",
    "from nose.tools import assert_equal\n",
    "\n",
    "class AnagramTest(object):\n",
    "    \n",
    "    def test(self,sol):\n",
    "        assert_equal(sol('go go go','gggooo'),True)\n",
    "        assert_equal(sol('abc','cba'),True)\n",
    "        assert_equal(sol('hi man','hi     man'),True)\n",
    "        assert_equal(sol('aabbcc','aabbc'),False)\n",
    "        assert_equal(sol('123','1 2'),False)\n",
    "        print (\"ALL TEST CASES PASSED\")\n",
    "\n",
    "# Run Tests\n",
    "t = AnagramTest()\n",
    "t.test(anagram2)"
   ]
  },
  {
   "cell_type": "code",
   "execution_count": null,
   "metadata": {
    "collapsed": false
   },
   "outputs": [],
   "source": [
    "def pair_sum(A, total):\n",
    "    result=[]\n",
    "    for i, Ai in enumerate(A):\n",
    "        for j, Aj in enumerate(A):\n",
    "            if j > i and Ai + Aj == total and (Aj, Ai) not in result and (Ai, Aj) not in result:\n",
    "                result.append( (Ai, Aj) )\n",
    "#    print(result)\n",
    "    return len(result)\n",
    "\n",
    "def pair_sum2(A, total):\n",
    "    result = set()\n",
    "    for n in A:\n",
    "        target = total -n\n",
    "        if target in A:\n",
    "            result.add((min(n, target), max(n, target)))\n",
    "#  print(result)\n",
    "    return len(result)"
   ]
  },
  {
   "cell_type": "code",
   "execution_count": null,
   "metadata": {
    "collapsed": false
   },
   "outputs": [],
   "source": [
    "%timeit pair_sum([1,3,2,2,7,8,9,0,1,2,3,4,5,6,7,8,9],4)\n",
    "%timeit pair_sum2([1,3,2,2,7,8,9,0,1,2,3,4,5,6,7,8,9],4)\n",
    "\n",
    "%timeit pair_sum([1,3,2,2,7,8,9,0,1,2,3,4,5,6,7,8,9,1,3,2,2,7,8,9,0,1,2,3,4,5,6,7,8,9],4)\n",
    "%timeit pair_sum2([1,3,2,2,7,8,9,0,1,2,3,4,5,6,7,8,9,1,3,2,2,7,8,9,0,1,2,3,4,5,6,7,8,9],4)"
   ]
  },
  {
   "cell_type": "code",
   "execution_count": null,
   "metadata": {
    "collapsed": false
   },
   "outputs": [],
   "source": [
    "\"\"\"\n",
    "RUN THIS CELL TO TEST YOUR SOLUTION\n",
    "\"\"\"\n",
    "from nose.tools import assert_equal\n",
    "\n",
    "class TestPair(object):\n",
    "    \n",
    "    def test(self,sol):\n",
    "        assert_equal(sol([1,2,3,1],3),1)\n",
    "        assert_equal(sol([1,3,2,2],4),2)\n",
    "        assert_equal(sol([1,9,2,8,3,7,4,6,5,5,13,14,11,13,-1],10),6)\n",
    "        print ('ALL TEST CASES PASSED')\n",
    "        \n",
    "#Run tests\n",
    "t = TestPair()\n",
    "t.test(pair_sum2)\n"
   ]
  },
  {
   "cell_type": "code",
   "execution_count": null,
   "metadata": {
    "collapsed": false
   },
   "outputs": [],
   "source": [
    "def finder1(arr1, arr2):\n",
    "    arr1.sort()\n",
    "    arr2.sort()\n",
    "    for i, s in enumerate(arr1):\n",
    "        if arr2[i] != s:\n",
    "            return s\n",
    "    return None\n",
    "    \n",
    "def finder2(arr1, arr2):\n",
    "    result = {}\n",
    "    for n in arr2:\n",
    "        if n in result:\n",
    "            result[n] += 1\n",
    "        else:\n",
    "            result[n] = 1\n",
    "    for n in arr1:\n",
    "        if n not in result or result[n] == 0:\n",
    "            return n\n",
    "        else:\n",
    "            result[n] -= 1\n",
    "    return None\n",
    "\n",
    "import collections\n",
    "def finder3(arr1, arr2):\n",
    "    result = collections.defaultdict(int)\n",
    "    for n in arr2:\n",
    "        result[n] +=1\n",
    "    for n in arr1:\n",
    "        if result[n] == 0:\n",
    "            return n\n",
    "        else:\n",
    "            result[n] -= 1\n",
    "    return None"
   ]
  },
  {
   "cell_type": "code",
   "execution_count": null,
   "metadata": {
    "collapsed": false
   },
   "outputs": [],
   "source": [
    "print(finder3([1,2,3,4,5,6,7],[3,7,2,1,4,6]))"
   ]
  },
  {
   "cell_type": "code",
   "execution_count": null,
   "metadata": {
    "collapsed": false
   },
   "outputs": [],
   "source": [
    "%timeit finder1([1,2,3,4,5,6,7],[3,7,2,1,4,6])\n",
    "%timeit finder2([1,2,3,4,5,6,7],[3,7,2,1,4,6])\n",
    "%timeit finder3([1,2,3,4,5,6,7],[3,7,2,1,4,6])\n",
    "\n",
    "%timeit finder1([1,2,3,4,5,6,7,8,9,10,11,12,13,14,15,16,17,18,19,20,21,22,23,24,25,26,27,28],[27,3,7,2,1,4,6,26,14,13,25,9,8,12,11,24,10,15,23,16,17,18,19,20,21,22,23])\n",
    "%timeit finder2([1,2,3,4,5,6,7,8,9,10,11,12,13,14,15,16,17,18,19,20,21,22,23,24,25,26,27,28],[27,3,7,2,1,4,6,26,14,13,25,9,8,12,11,24,10,15,23,16,17,18,19,20,21,22,23])\n",
    "%timeit finder3([1,2,3,4,5,6,7,8,9,10,11,12,13,14,15,16,17,18,19,20,21,22,23,24,25,26,27,28],[27,3,7,2,1,4,6,26,14,13,25,9,8,12,11,24,10,15,23,16,17,18,19,20,21,22,23])\n"
   ]
  },
  {
   "cell_type": "code",
   "execution_count": null,
   "metadata": {
    "collapsed": false
   },
   "outputs": [],
   "source": [
    "\"\"\"\n",
    "RUN THIS CELL TO TEST YOUR SOLUTION\n",
    "\"\"\"\n",
    "from nose.tools import assert_equal\n",
    "\n",
    "class TestFinder(object):\n",
    "    \n",
    "    def test(self,sol):\n",
    "        assert_equal(sol([5,5,7,7],[5,7,7]),5)\n",
    "        assert_equal(sol([1,2,3,4,5,6,7],[3,7,2,1,4,6]),5)\n",
    "        assert_equal(sol([9,8,7,6,5,4,3,2,1],[9,8,7,5,4,3,2,1]),6)\n",
    "        print ('ALL TEST CASES PASSED')\n",
    "\n",
    "# Run test\n",
    "t = TestFinder()\n",
    "t.test(finder3)"
   ]
  },
  {
   "cell_type": "code",
   "execution_count": null,
   "metadata": {
    "collapsed": false
   },
   "outputs": [],
   "source": [
    "def large_cont_sum(arr): \n",
    "    if all(n > 0 for n in arr):\n",
    "        return sum(arr)\n",
    "    \n",
    "    maxsum = arr[0]; maxi = 0; maxj = 0;\n",
    "    for i in range(0, len(arr)):\n",
    "        for j in range(i, len(arr)):\n",
    "            thesum = sum(arr[i:j+1])\n",
    "            if thesum > maxsum:\n",
    "                maxsum = thesum\n",
    "                maxi = i\n",
    "                maxj = j\n",
    "#   print (maxsum, maxi, maxj)\n",
    "    return maxsum\n",
    "\n",
    "def large_cont_sum2(arr):\n",
    "    maxsum = currentsum = arr[0]\n",
    "    for num in arr[1:]:\n",
    "        currentsum = max(currentsum + num, num)\n",
    "        maxsum = max(currentsum, maxsum)\n",
    "    return maxsum"
   ]
  },
  {
   "cell_type": "code",
   "execution_count": null,
   "metadata": {
    "collapsed": false
   },
   "outputs": [],
   "source": [
    "large_cont_sum2([1,2,-1,3,4,10,10,-10,-1])"
   ]
  },
  {
   "cell_type": "code",
   "execution_count": null,
   "metadata": {
    "collapsed": false
   },
   "outputs": [],
   "source": [
    "%timeit large_cont_sum([1,2,-1,3,4,10,10,-10,-1])\n",
    "%timeit large_cont_sum2([1,2,-1,3,4,10,10,-10,-1])"
   ]
  },
  {
   "cell_type": "code",
   "execution_count": null,
   "metadata": {
    "collapsed": false
   },
   "outputs": [],
   "source": [
    "from nose.tools import assert_equal\n",
    "\n",
    "class LargeContTest(object):\n",
    "    def test(self,sol):\n",
    "        assert_equal(sol([1,2,-1,3,4,-1]),9)\n",
    "        assert_equal(sol([1,2,-1,3,4,10,10,-10,-1]),29)\n",
    "        assert_equal(sol([-1,1]),1)\n",
    "        print ('ALL TEST CASES PASSED')\n",
    "        \n",
    "#Run Test\n",
    "t = LargeContTest()\n",
    "t.test(large_cont_sum2)"
   ]
  },
  {
   "cell_type": "code",
   "execution_count": null,
   "metadata": {
    "collapsed": false
   },
   "outputs": [],
   "source": [
    "def rev_word(s):\n",
    "    words = reversed(s.split())\n",
    "    return ' '.join(words)"
   ]
  },
  {
   "cell_type": "code",
   "execution_count": null,
   "metadata": {
    "collapsed": false
   },
   "outputs": [],
   "source": [
    "rev_word('Hi John,   are you ready to go?')\n",
    "rev_word('    space before')"
   ]
  },
  {
   "cell_type": "code",
   "execution_count": null,
   "metadata": {
    "collapsed": false
   },
   "outputs": [],
   "source": [
    "\"\"\"\n",
    "RUN THIS CELL TO TEST YOUR SOLUTION\n",
    "\"\"\"\n",
    "\n",
    "from nose.tools import assert_equal\n",
    "\n",
    "class ReversalTest(object):\n",
    "    \n",
    "    def test(self,sol):\n",
    "        assert_equal(sol('    space before'),'before space')\n",
    "        assert_equal(sol('space after     '),'after space')\n",
    "        assert_equal(sol('   Hello John    how are you   '),'you are how John Hello')\n",
    "        assert_equal(sol('1'),'1')\n",
    "        print (\"ALL TEST CASES PASSED\")\n",
    "        \n",
    "# Run and test\n",
    "t = ReversalTest()\n",
    "t.test(rev_word)"
   ]
  },
  {
   "cell_type": "code",
   "execution_count": null,
   "metadata": {
    "collapsed": false
   },
   "outputs": [],
   "source": [
    "def compress(s):\n",
    "    if len(s) == 0:\n",
    "        return ''\n",
    "    news = ''\n",
    "    prev_ch = s[0]\n",
    "    counter = 0\n",
    "    for ch in s:\n",
    "        if prev_ch == ch:\n",
    "            counter += 1\n",
    "        else:\n",
    "            news += prev_ch + str(counter)\n",
    "            counter = 1\n",
    "        prev_ch = ch\n",
    "    news += prev_ch + str(counter)\n",
    "    return news\n",
    "\n",
    "def compress1(s):\n",
    "    \"\"\"\n",
    "    This solution compresses without checking. Known as the RunLength Compression algorithm.\n",
    "    \"\"\"\n",
    "    \n",
    "    # Begin Run as empty string\n",
    "    r = \"\"\n",
    "    l = len(s)\n",
    "    \n",
    "    # Check for length 0\n",
    "    if l == 0:\n",
    "        return \"\"\n",
    "    \n",
    "    # Check for length 1\n",
    "    if l == 1:\n",
    "        return s + \"1\"\n",
    "    \n",
    "    #Intialize Values\n",
    "    last = s[0]\n",
    "    cnt = 1\n",
    "    i = 1\n",
    "    \n",
    "    while i < l:\n",
    "        \n",
    "        # Check to see if it is the same letter\n",
    "        if s[i] == s[i - 1]: \n",
    "            # Add a count if same as previous\n",
    "            cnt += 1\n",
    "        else:\n",
    "            # Otherwise store the previous data\n",
    "            r = r + s[i - 1] + str(cnt)\n",
    "            cnt = 1\n",
    "            \n",
    "        # Add to index count to terminate while loop\n",
    "        i += 1\n",
    "    \n",
    "    # Put everything back into run\n",
    "    r = r + s[i - 1] + str(cnt)\n",
    "    \n",
    "    return r"
   ]
  },
  {
   "cell_type": "code",
   "execution_count": null,
   "metadata": {
    "collapsed": false
   },
   "outputs": [],
   "source": [
    "compress('AAA')"
   ]
  },
  {
   "cell_type": "code",
   "execution_count": null,
   "metadata": {
    "collapsed": false
   },
   "outputs": [],
   "source": [
    "\"\"\"\n",
    "RUN THIS CELL TO TEST YOUR SOLUTION\n",
    "\"\"\"\n",
    "from nose.tools import assert_equal\n",
    "\n",
    "class TestCompress(object):\n",
    "\n",
    "    def test(self, sol):\n",
    "        assert_equal(sol(''), '')\n",
    "        assert_equal(sol('AABBCC'), 'A2B2C2')\n",
    "        assert_equal(sol('AAABCCDDDDD'), 'A3B1C2D5')\n",
    "        print ('ALL TEST CASES PASSED')\n",
    "\n",
    "# Run Tests\n",
    "t = TestCompress()\n",
    "t.test(compress)"
   ]
  },
  {
   "cell_type": "code",
   "execution_count": null,
   "metadata": {
    "collapsed": true
   },
   "outputs": [],
   "source": [
    "def uni_char(s):\n",
    "    return len(s) == len(set(s))\n",
    "\n",
    "def uni_char2(s):\n",
    "    set_ch = ''\n",
    "    for ch in s:\n",
    "        if ch in set_ch:\n",
    "            return False\n",
    "        else:\n",
    "            set_ch += ch\n",
    "    return True"
   ]
  },
  {
   "cell_type": "code",
   "execution_count": null,
   "metadata": {
    "collapsed": false
   },
   "outputs": [],
   "source": [
    "%timeit uni_char('abcdefghijklamnopqrstuvwxyz')\n",
    "%timeit uni_char('abcdefghijklmnopqrstuvwxyz')\n",
    "%timeit uni_char2('abcdefghijklmnopqrstuvwxyz')\n",
    "%timeit uni_char2('abcdefghijklamnopqrstuvwxyz')"
   ]
  },
  {
   "cell_type": "code",
   "execution_count": null,
   "metadata": {
    "collapsed": false
   },
   "outputs": [],
   "source": [
    "\"\"\"\n",
    "RUN THIS CELL TO TEST YOUR CODE\n",
    "\"\"\"\n",
    "from nose.tools import assert_equal\n",
    "\n",
    "\n",
    "class TestUnique(object):\n",
    "\n",
    "    def test(self, sol):\n",
    "        assert_equal(sol(''), True)\n",
    "        assert_equal(sol('goo'), False)\n",
    "        assert_equal(sol('abcdefg'), True)\n",
    "        print ('ALL TEST CASES PASSED')\n",
    "        \n",
    "# Run Tests\n",
    "t = TestUnique()\n",
    "t.test(uni_char)"
   ]
  },
  {
   "cell_type": "code",
   "execution_count": null,
   "metadata": {
    "collapsed": false
   },
   "outputs": [],
   "source": [
    "class Stack(object):\n",
    "    def __init__(self):\n",
    "        self._storage = []\n",
    "        \n",
    "    def push(self, item):\n",
    "        self._storage.append(item)\n",
    "        \n",
    "    def pop(self):\n",
    "        if len(self._storage) == 0:\n",
    "            return None\n",
    "        item = self._storage[len(self._storage)-1]\n",
    "        del self._storage[len(self._storage)-1]\n",
    "        return item\n",
    "    \n",
    "    def show(self):\n",
    "        return self._storage\n",
    "    \n",
    "    def peek(self):\n",
    "        if len(self._storage) == 0:\n",
    "            return None\n",
    "        return self._storage[len(self._storage)-1]\n",
    "    \n",
    "    def isEmpty(self):\n",
    "        return self.size() == 0\n",
    "    \n",
    "    def size(self):\n",
    "        return len(self._storage)"
   ]
  },
  {
   "cell_type": "code",
   "execution_count": null,
   "metadata": {
    "collapsed": true
   },
   "outputs": [],
   "source": [
    "class Queue(object):\n",
    "    def __init__(self):\n",
    "        self._storage = []\n",
    "        \n",
    "    def enqueue(self, item):\n",
    "        self._storage.append(item)\n",
    "        \n",
    "    def dequeue(self):\n",
    "        if len(self._storage) == 0:\n",
    "            return None\n",
    "        item = self._storage[0]\n",
    "        del self._storage[0]\n",
    "        return item\n",
    "    \n",
    "    def show(self):\n",
    "        return self._storage\n",
    "    \n",
    "    def peek(self):\n",
    "        if len(self._storage) == 0:\n",
    "            return None\n",
    "        return self._storage[0]\n",
    "    \n",
    "    def isEmpty(self):\n",
    "        return self.size() == 0\n",
    "    \n",
    "    def size(self):\n",
    "        return len(self._storage)"
   ]
  },
  {
   "cell_type": "code",
   "execution_count": null,
   "metadata": {
    "collapsed": true
   },
   "outputs": [],
   "source": [
    "class Deque(object):\n",
    "    def __init__(self):\n",
    "        self._storage = []\n",
    "        \n",
    "    def add_front(self, item):\n",
    "        self._storage.insert(0, item)\n",
    "        \n",
    "    def rem_front(self):\n",
    "        if len(self._storage) == 0:\n",
    "            return None\n",
    "        item = self._storage[0]\n",
    "        del self._storage[0]\n",
    "        return item\n",
    "    \n",
    "    def add_rear(self, item):\n",
    "        self._storage.append(item)\n",
    "        \n",
    "    def rem_rear(self):\n",
    "        if len(self._storage) == 0:\n",
    "            return None\n",
    "        item = self._storage[len(self._storage)-1]\n",
    "        del self._storage[len(self._storage)-1]\n",
    "        return item\n",
    "    \n",
    "    def show(self):\n",
    "        return self._storage\n",
    "    \n",
    "    def isEmpty(self):\n",
    "        return self.size() == 0\n",
    "    \n",
    "    def size(self):\n",
    "        return len(self._storage)"
   ]
  },
  {
   "cell_type": "code",
   "execution_count": null,
   "metadata": {
    "collapsed": false
   },
   "outputs": [],
   "source": [
    "def balance_check(s):\n",
    "    stack=Stack()\n",
    "    lookup = { '{': 'curly open', '}': 'curly close', \n",
    "            '[' : 'square open', ']': 'square close',\n",
    "            '(' : 'round open', ')': 'round close' }\n",
    "    \n",
    "    for ch in s:\n",
    "        result = lookup[ch]\n",
    "        if 'open' in result:\n",
    "            stack.push(ch)\n",
    "        else:\n",
    "            previous = stack.pop()\n",
    "            if result[0] != lookup[previous][0]:\n",
    "                return False\n",
    "            \n",
    "    return stack.isEmpty()\n",
    "\n",
    "def balance_check2(s):\n",
    "    stack=[]\n",
    "    opening = set(['[','{','('])\n",
    "    matches = set( [('{','}'), ('[',']'), ('(',')')] )\n",
    "\n",
    "    for ch in s:\n",
    "        if ch in opening:\n",
    "            stack.append(ch)\n",
    "        else:\n",
    "            previous = stack.pop()\n",
    "            if (previous, ch) not in matches:\n",
    "                return False\n",
    "            \n",
    "    return stack == []"
   ]
  },
  {
   "cell_type": "code",
   "execution_count": null,
   "metadata": {
    "collapsed": false
   },
   "outputs": [],
   "source": [
    "%timeit balance_check('[{{{(())}}}]((()))')\n",
    "%timeit balance_check2('[{{{(())}}}]((()))')"
   ]
  },
  {
   "cell_type": "code",
   "execution_count": null,
   "metadata": {
    "collapsed": false
   },
   "outputs": [],
   "source": [
    "balance_check2('()(){]}')"
   ]
  },
  {
   "cell_type": "code",
   "execution_count": null,
   "metadata": {
    "collapsed": false
   },
   "outputs": [],
   "source": [
    "\"\"\"\n",
    "RUN THIS CELL TO TEST YOUR SOLUTION\n",
    "\"\"\"\n",
    "from nose.tools import assert_equal\n",
    "\n",
    "class TestBalanceCheck(object):\n",
    "    \n",
    "    def test(self,sol):\n",
    "        assert_equal(sol('[](){([[[]]])}('),False)\n",
    "        assert_equal(sol('[{{{(())}}}]((()))'),True)\n",
    "        assert_equal(sol('[[[]])]'),False)\n",
    "        print ('ALL TEST CASES PASSED')\n",
    "        \n",
    "# Run Tests\n",
    "\n",
    "t = TestBalanceCheck()\n",
    "t.test(balance_check2)"
   ]
  },
  {
   "cell_type": "code",
   "execution_count": null,
   "metadata": {
    "collapsed": false
   },
   "outputs": [],
   "source": [
    "class Queue2Stacks(object):\n",
    "    \n",
    "    def __init__(self):\n",
    "        # Two Stacks\n",
    "        self.stack1 = []\n",
    "        self.stack2 = []\n",
    "     \n",
    "    def enqueue(self,element):\n",
    "         self.stack1.append(element)\n",
    "        \n",
    "    def dequeue(self):\n",
    "        item = None\n",
    "        \n",
    "        while self.stack1:\n",
    "            self.stack2.append(self.stack1.pop())\n",
    "        \n",
    "        item = self.stack2.pop() if len(self.stack2) else None\n",
    "        \n",
    "        while self.stack2:\n",
    "            self.stack1.append(self.stack2.pop())\n",
    "            \n",
    "        return item\n",
    "    \n",
    "    def show(self):\n",
    "        print ('Stack 1' + str(self.stack1))\n",
    "        print ('Stack 2' + str(self.stack2))\n",
    "        print()"
   ]
  },
  {
   "cell_type": "code",
   "execution_count": null,
   "metadata": {
    "collapsed": true
   },
   "outputs": [],
   "source": [
    "q = Queue2Stacks()"
   ]
  },
  {
   "cell_type": "code",
   "execution_count": null,
   "metadata": {
    "collapsed": false
   },
   "outputs": [],
   "source": [
    "q.enqueue('a')\n",
    "q.show()\n",
    "q.enqueue('b')\n",
    "q.show()\n",
    "q.enqueue('c')\n",
    "q.show()"
   ]
  },
  {
   "cell_type": "code",
   "execution_count": null,
   "metadata": {
    "collapsed": false
   },
   "outputs": [],
   "source": [
    "print(q.dequeue())\n",
    "q.show()"
   ]
  },
  {
   "cell_type": "code",
   "execution_count": null,
   "metadata": {
    "collapsed": false
   },
   "outputs": [],
   "source": [
    "\"\"\"\n",
    "RUN THIS CELL TO CHECK THAT YOUR SOLUTION OUTPUT MAKES SENSE AND BEHAVES AS A QUEUE\n",
    "\"\"\"\n",
    "q = Queue2Stacks()\n",
    "\n",
    "for i in range(5):\n",
    "    q.enqueue(i)\n",
    "    \n",
    "for i in range(5):\n",
    "    print (q.dequeue())"
   ]
  },
  {
   "cell_type": "code",
   "execution_count": null,
   "metadata": {
    "collapsed": false
   },
   "outputs": [],
   "source": [
    "class SimpleLinkedList(object):\n",
    "        \n",
    "    class Node(object):\n",
    "        \n",
    "        def __init__(self, value, node=None):\n",
    "            self.value = value\n",
    "            self.previous_node = node\n",
    "            print('Init node', self.value, self)\n",
    "            \n",
    "        def __str__(self):\n",
    "            return self.value + str(id(self)) + \" \" +str(id(self.previous_node))\n",
    "        \n",
    "    def __init__(self):\n",
    "        self.head_node = None\n",
    "        self.current_node = None\n",
    "        self.tail_node = None\n",
    "        \n",
    "    def create_head_node(self, value):\n",
    "        node = self.Node(value, self.head_node)\n",
    "        if not self.head_node:\n",
    "            self.tail_node = node\n",
    "        self.head_node = node\n",
    "        self.current_node = node\n",
    "        \n",
    "    def create_tail_node(self, value):\n",
    "        node = self.Node(value, None)\n",
    "        if self.tail_node:\n",
    "            self.tail_node.previous_node = node\n",
    "            self.tail_node = node\n",
    "        \n",
    "    def delete_node(self, node):\n",
    "        pass\n",
    "        \n",
    "    def get_head_node(self):\n",
    "        if self.head_node:\n",
    "            self.current_node = self.head_node\n",
    "            return (self.current_node.value, self.current_node)\n",
    "        return None\n",
    "    \n",
    "    def get_tail_node(self):\n",
    "        if self.tail_node:\n",
    "            self.current_node = self.tail_node\n",
    "            return (self.current_node.value, self.current_node)\n",
    "        return None\n",
    "    \n",
    "    def get_previous_node(self):\n",
    "        if self.current_node and self.current_node.previous_node:\n",
    "            self.current_node = self.current_node.previous_node\n",
    "            return (self.current_node.value, self.current_node)\n",
    "        return None\n",
    "    \n",
    "    def show(self):\n",
    "        node = self.head_node\n",
    "        while node:\n",
    "            print (node)\n",
    "            node = node.previous_node\n",
    "            \n",
    "    def nthnode(self, nth):\n",
    "        end_node = self.head_node\n",
    "        for i in range(nth):\n",
    "            if not end_node.previous_node:\n",
    "                return None\n",
    "            end_node = end_node.previous_node\n",
    "        \n",
    "        current_node = self.head_node\n",
    "        \n",
    "        while end_node.previous_node:\n",
    "            current_node = current_node.previous_node\n",
    "            end_node = end_node.previous_node\n",
    "        print(current_node)\n",
    "        return current_node"
   ]
  },
  {
   "cell_type": "code",
   "execution_count": null,
   "metadata": {
    "collapsed": false
   },
   "outputs": [],
   "source": [
    "ll=SimpleLinkedList()"
   ]
  },
  {
   "cell_type": "code",
   "execution_count": null,
   "metadata": {
    "collapsed": false
   },
   "outputs": [],
   "source": [
    "ll.create_head_node('a')\n",
    "ll.create_head_node('b')\n",
    "ll.create_head_node('c')\n",
    "ll.create_head_node('d')\n",
    "ll.create_head_node('e')\n",
    "ll.create_head_node('f')\n",
    "ll.create_head_node('g')\n",
    "ll.create_head_node('h')"
   ]
  },
  {
   "cell_type": "code",
   "execution_count": null,
   "metadata": {
    "collapsed": false
   },
   "outputs": [],
   "source": [
    "ll.show()"
   ]
  },
  {
   "cell_type": "code",
   "execution_count": null,
   "metadata": {
    "collapsed": false
   },
   "outputs": [],
   "source": [
    "ll.nthnode(3)"
   ]
  },
  {
   "cell_type": "code",
   "execution_count": null,
   "metadata": {
    "collapsed": false
   },
   "outputs": [],
   "source": [
    "number = 10\n",
    "total = 1\n",
    "for i in range(1,number+1):\n",
    "    total = total * i\n",
    "print (total)"
   ]
  },
  {
   "cell_type": "code",
   "execution_count": null,
   "metadata": {
    "collapsed": true
   },
   "outputs": [],
   "source": [
    "def factorial(number):\n",
    "    if number == 0:\n",
    "        return 1\n",
    "    else:\n",
    "        return number * factorial(number-1)"
   ]
  },
  {
   "cell_type": "code",
   "execution_count": null,
   "metadata": {
    "collapsed": false
   },
   "outputs": [],
   "source": [
    "factorial(10)"
   ]
  },
  {
   "cell_type": "code",
   "execution_count": null,
   "metadata": {
    "collapsed": true
   },
   "outputs": [],
   "source": [
    "memo={}\n",
    "def summer(number):\n",
    "    if number <= 1:\n",
    "        return 1\n",
    "    if not number in memo:\n",
    "        memo[number] = number + summer(number-1)\n",
    "    return memo[number]"
   ]
  },
  {
   "cell_type": "code",
   "execution_count": null,
   "metadata": {
    "collapsed": false
   },
   "outputs": [],
   "source": [
    "print(summer(4))\n",
    "print(memo)"
   ]
  },
  {
   "cell_type": "code",
   "execution_count": null,
   "metadata": {
    "collapsed": false
   },
   "outputs": [],
   "source": [
    "%page"
   ]
  },
  {
   "cell_type": "code",
   "execution_count": null,
   "metadata": {
    "collapsed": true
   },
   "outputs": [],
   "source": [
    "def sumdigits(n):\n",
    "    s=string(n)\n",
    "    if len(s) == 1:\n",
    "        return int(s)\n",
    "    else:\n",
    "        return int(s[0]) + int(sumstring(s[1:]))\n",
    "    "
   ]
  },
  {
   "cell_type": "code",
   "execution_count": null,
   "metadata": {
    "collapsed": false
   },
   "outputs": [],
   "source": [
    "%%html\n",
    "sumstring('1234')\n"
   ]
  },
  {
   "cell_type": "code",
   "execution_count": null,
   "metadata": {
    "collapsed": false
   },
   "outputs": [],
   "source": [
    "def word_split(phrase, list_of_words, output=None):\n",
    "  \n",
    "    if output is None:\n",
    "        output = []\n",
    "    #print(phrase, list_of_words, output)\n",
    "    for word in list_of_words:\n",
    "        if phrase.startswith(word):\n",
    "            output.append(word)\n",
    "            phrase = phrase[len(word):]\n",
    "            return word_split(phrase, list_of_words, output)\n",
    "    return output"
   ]
  },
  {
   "cell_type": "code",
   "execution_count": null,
   "metadata": {
    "collapsed": false
   },
   "outputs": [],
   "source": [
    "word_split('ilovedogsJohn',['i','am','a','dogs','lover','love','John'])"
   ]
  },
  {
   "cell_type": "code",
   "execution_count": null,
   "metadata": {
    "collapsed": false
   },
   "outputs": [],
   "source": [
    "def reverse(s):\n",
    "    if len(s) <= 1:\n",
    "        return s\n",
    "    return s[-1] + reverse(s[0:-1])"
   ]
  },
  {
   "cell_type": "code",
   "execution_count": null,
   "metadata": {
    "collapsed": false
   },
   "outputs": [],
   "source": [
    "reverse('hello world')"
   ]
  },
  {
   "cell_type": "code",
   "execution_count": null,
   "metadata": {
    "collapsed": false
   },
   "outputs": [],
   "source": [
    "'''\n",
    "RUN THIS CELL TO TEST YOUR FUNCTION AGAINST SOME TEST CASES\n",
    "'''\n",
    "\n",
    "from nose.tools import assert_equal\n",
    "\n",
    "class TestReverse(object):\n",
    "    \n",
    "    def test_rev(self,solution):\n",
    "        assert_equal(solution('hello'),'olleh')\n",
    "        assert_equal(solution('hello world'),'dlrow olleh')\n",
    "        assert_equal(solution('123456789'),'987654321')\n",
    "        \n",
    "        print ('PASSED ALL TEST CASES!')\n",
    "        \n",
    "# Run Tests\n",
    "test = TestReverse()\n",
    "test.test_rev(reverse)"
   ]
  },
  {
   "cell_type": "code",
   "execution_count": null,
   "metadata": {
    "collapsed": true
   },
   "outputs": [],
   "source": [
    "def permute(s):\n",
    "    result=[]\n",
    "    for ch in s:\n",
    "        if len(s) == 1:\n",
    "            result.append(s)\n",
    "            return s\n",
    "        return ch + permute(s[1:])\n",
    "    return result"
   ]
  },
  {
   "cell_type": "code",
   "execution_count": null,
   "metadata": {
    "collapsed": false
   },
   "outputs": [],
   "source": [
    "permute('abc')"
   ]
  },
  {
   "cell_type": "code",
   "execution_count": null,
   "metadata": {
    "collapsed": false
   },
   "outputs": [],
   "source": [
    "\"\"\"\n",
    "RUN THIS CELL TO TEST YOUR SOLUTION.\n",
    "\"\"\"\n",
    "\n",
    "from nose.tools import assert_equal\n",
    "\n",
    "class TestPerm(object):\n",
    "    \n",
    "    def test(self,solution):\n",
    "        \n",
    "        assert_equal(sorted(solution('abc')),sorted(['abc', 'acb', 'bac', 'bca', 'cab', 'cba']))\n",
    "        assert_equal(sorted(solution('dog')),sorted(['dog', 'dgo', 'odg', 'ogd', 'gdo', 'god']) )\n",
    "        \n",
    "        print ('All test cases passed.')\n",
    "        \n",
    "\n",
    "\n",
    "# Run Tests\n",
    "t = TestPerm()\n",
    "t.test(permute)"
   ]
  },
  {
   "cell_type": "code",
   "execution_count": null,
   "metadata": {
    "collapsed": true
   },
   "outputs": [],
   "source": [
    "def fib_rec(n):\n",
    "    if n <= 2:\n",
    "        return 1\n",
    "    return fib_rec(n-1) + fib_rec(n-2)"
   ]
  },
  {
   "cell_type": "code",
   "execution_count": null,
   "metadata": {
    "collapsed": false
   },
   "outputs": [],
   "source": [
    "# Instantiate Cache information\n",
    "n = 25\n",
    "cache = [None] * (n + 1)\n",
    "\n",
    "def fib_dyn(n):\n",
    "    if n <= 2:\n",
    "        return 1\n",
    "    if not cache[n]:\n",
    "        cache[n]= fib_rec(n-1) + fib_rec(n-2)\n",
    "    return cache[n]"
   ]
  },
  {
   "cell_type": "code",
   "execution_count": null,
   "metadata": {
    "collapsed": true
   },
   "outputs": [],
   "source": [
    "def fib_iter(n):\n",
    "    fib = [1]*(n+1)\n",
    "    for i in range(3, n+1):\n",
    "        fib[i]=fib[i-1]+fib[i-2]\n",
    "    return fib[n]"
   ]
  },
  {
   "cell_type": "code",
   "execution_count": null,
   "metadata": {
    "collapsed": false
   },
   "outputs": [],
   "source": [
    "def fib_iter1(n):\n",
    "    # Set starting point\n",
    "    a,b = 0,1\n",
    "    # Follow algorithm\n",
    "    for i in range(n):\n",
    "        a, b = b, a + b        \n",
    "    return a"
   ]
  },
  {
   "cell_type": "code",
   "execution_count": null,
   "metadata": {
    "collapsed": false
   },
   "outputs": [],
   "source": [
    "%timeit fib_iter(10)\n",
    "%timeit fib_iter1(10)\n",
    "%timeit fib_rec(10)\n",
    "%timeit fib_dyn(10)"
   ]
  },
  {
   "cell_type": "code",
   "execution_count": null,
   "metadata": {
    "collapsed": false
   },
   "outputs": [],
   "source": [
    "\"\"\"\n",
    "UNCOMMENT THE CODE AT THE BOTTOM OF THIS CELL TO SELECT WHICH SOLUTIONS TO TEST.\n",
    "THEN RUN THE CELL.\n",
    "\"\"\"\n",
    "\n",
    "from nose.tools import assert_equal\n",
    "\n",
    "class TestFib(object):\n",
    "    \n",
    "    def test(self,solution):\n",
    "        assert_equal(solution(10),55)\n",
    "        assert_equal(solution(1),1)\n",
    "        assert_equal(solution(23),28657)\n",
    "        print ('Passed all tests.')\n",
    "# UNCOMMENT FOR CORRESPONDING FUNCTION\n",
    "t = TestFib()\n",
    "\n",
    "t.test(fib_rec)\n",
    "n = 25\n",
    "cache = [None] * (n + 1)\n",
    "t.test(fib_dyn) # Note, will need to reset cache size for each test!\n",
    "t.test(fib_iter)"
   ]
  },
  {
   "cell_type": "code",
   "execution_count": null,
   "metadata": {
    "collapsed": true
   },
   "outputs": [],
   "source": [
    "def rec_coin_dynam(target,coins,known_results):\n",
    "    '''\n",
    "    INPUT: This funciton takes in a target amount and a list of possible coins to use.\n",
    "    It also takes a third parameter, known_results, indicating previously calculated results.\n",
    "    The known_results parameter shoud be started with [0] * (target+1)\n",
    "    \n",
    "    OUTPUT: Minimum number of coins needed to make the target.\n",
    "    '''\n",
    "    \n",
    "    # Default output to target\n",
    "    min_coins = target\n",
    "    \n",
    "    # Base Case\n",
    "    if target in coins:\n",
    "        known_results[target] = 1\n",
    "        return 1\n",
    "    \n",
    "    # Return a known result if it happens to be greater than 1\n",
    "    elif target in known_results:\n",
    "        return known_results[target]\n",
    "    \n",
    "    else:\n",
    "        # for every coin value that is <= than target\n",
    "        for i in [c for c in coins if c <= target]:\n",
    "            \n",
    "            # Recursive call, note how we include the known results!\n",
    "            num_coins = 1 + rec_coin_dynam(target-i,coins,known_results)\n",
    "            \n",
    "            # Reset Minimum if we have a new minimum\n",
    "            if num_coins < min_coins:\n",
    "                min_coins = num_coins\n",
    "                \n",
    "                # Reset the known result\n",
    "                known_results[target] = min_coins\n",
    "                \n",
    "    return min_coins"
   ]
  },
  {
   "cell_type": "code",
   "execution_count": null,
   "metadata": {
    "collapsed": false
   },
   "outputs": [],
   "source": [
    "def rec_coin1(target, coins):\n",
    "    for coin in sorted(coins, reverse=True):\n",
    "        if coin <= target:\n",
    "            if target == coin:\n",
    "                return [coin]\n",
    "            else:\n",
    "                return rec_coin(target - coin, coins) + [coin]\n",
    "            \n",
    "def rec_coinx(target,coins):\n",
    "    '''\n",
    "    INPUT: Target change amount and list of coin values\n",
    "    OUTPUT: Minimum coins needed to make change\n",
    "    \n",
    "    Note, this solution is not optimized.\n",
    "    '''\n",
    "    \n",
    "    # Default to target value\n",
    "    min_coins = target\n",
    "    \n",
    "    # Check to see if we have a single coin match (BASE CASE)\n",
    "    if target in coins:\n",
    "        return 1\n",
    "    \n",
    "    else:\n",
    "        \n",
    "        # for every coin value that is <= than target\n",
    "        for i in [c for c in coins if c <= target]:\n",
    "            \n",
    "            # Recursive Call (add a count coin and subtract from the target) \n",
    "            num_coins = 1 + rec_coinx(target-i,coins)\n",
    "            \n",
    "            # Reset Minimum if we have a new minimum\n",
    "            if num_coins < min_coins:\n",
    "                \n",
    "                min_coins = num_coins\n",
    "                \n",
    "    return min_coins\n",
    "\n",
    "from math import floor \n",
    "def rec_coin(target, coins, cache={}):\n",
    "    if target in cache:\n",
    "        return cache[target]\n",
    "    for coin in sorted(coins, reverse=True):\n",
    "        num_coins = floor(target / coin)\n",
    "        if num_coins >= 1:\n",
    "            if target == num_coins * coin:\n",
    "                cache[target] = num_coins\n",
    "                return cache[target]\n",
    "            else:\n",
    "                total = rec_coin(target - num_coins * coin, coins, cache) + num_coins\n",
    "                cache[target] = rec_coin(target - num_coins * coin, coins, cache) + num_coins\n",
    "                return cache[target]\n"
   ]
  },
  {
   "cell_type": "code",
   "execution_count": null,
   "metadata": {
    "collapsed": false
   },
   "outputs": [],
   "source": [
    "target = 45\n",
    "coins = [1,5,10,25]\n",
    "known_results = {}\n",
    "%timeit rec_coin(target,coins)\n",
    "#%timeit rec_coinx(target,coins)\n",
    "%timeit rec_coin_dynam(target, coins, known_results)"
   ]
  },
  {
   "cell_type": "code",
   "execution_count": null,
   "metadata": {
    "collapsed": false
   },
   "outputs": [],
   "source": [
    "target = 45\n",
    "coins = [1,5,10,25]\n",
    "known_results = {}\n",
    "%timeit rec_coin(target,coins)\n",
    "#%timeit rec_coinx(target,coins)\n",
    "%timeit rec_coin_dynam(target, coins, known_results)"
   ]
  },
  {
   "cell_type": "code",
   "execution_count": null,
   "metadata": {
    "collapsed": false
   },
   "outputs": [],
   "source": [
    "target = 45\n",
    "coins = [1,5,10,25]\n",
    "known_results = {}\n",
    "%timeit rec_coin(target,coins)\n",
    "#%timeit rec_coinx(target,coins)\n",
    "%timeit rec_coin_dynam(target, coins, known_results)"
   ]
  },
  {
   "cell_type": "code",
   "execution_count": null,
   "metadata": {
    "collapsed": false
   },
   "outputs": [],
   "source": [
    "target = 74\n",
    "coins = [1,5,10,25]\n",
    "rec_coin(target, coins)"
   ]
  },
  {
   "cell_type": "code",
   "execution_count": null,
   "metadata": {
    "collapsed": false
   },
   "outputs": [],
   "source": [
    "target = 45\n",
    "coins = [1,5,10,25]\n",
    "known_results = {}\n",
    "%timeit rec_coin(target,coins)\n",
    "#%timeit rec_coinx(target,coins)\n",
    "%timeit rec_coin_dynam(target, coins, known_results)"
   ]
  },
  {
   "cell_type": "code",
   "execution_count": null,
   "metadata": {
    "collapsed": true
   },
   "outputs": [],
   "source": []
  },
  {
   "cell_type": "code",
   "execution_count": null,
   "metadata": {
    "collapsed": false
   },
   "outputs": [],
   "source": [
    "\"\"\"\n",
    "RUN THIS CELL TO TEST YOUR FUNCTION.\n",
    "NOTE: NON-DYNAMIC FUNCTIONS WILL TAKE A LONG TIME TO TEST. IF YOU BELIEVE YOU HAVE A SOLUTION \n",
    "      GO CHECK THE SOLUTION NOTEBOOK INSTEAD OF RUNNING THIS!\n",
    "\"\"\"\n",
    "\n",
    "from nose.tools import assert_equal\n",
    "\n",
    "class TestCoins(object):\n",
    "    \n",
    "    def check(self,solution):\n",
    "        coins = [1,5,10,25]\n",
    "        assert_equal(solution(45,coins),3)\n",
    "        assert_equal(solution(23,coins),5)\n",
    "        assert_equal(solution(74,coins),8)\n",
    "        print ('Passed all tests.')\n",
    "# Run Test\n",
    "\n",
    "test = TestCoins()\n",
    "test.check(rec_coin)"
   ]
  },
  {
   "cell_type": "code",
   "execution_count": null,
   "metadata": {
    "collapsed": false
   },
   "outputs": [],
   "source": [
    "class BinaryTree(object):\n",
    "    def __init__(self, value):\n",
    "        self.value = value\n",
    "        self.leftchild = None\n",
    "        self.rightchild = None\n",
    "        \n",
    "    def insertleft(self, key):\n",
    "        newnode = BinaryTree(key)\n",
    "        if self.leftchild:\n",
    "            newnode.leftchild = self.leftchild\n",
    "        self.leftchild = newnode\n",
    "        \n",
    "    def insertright(self, key):\n",
    "        newnode = BinaryTree(key)\n",
    "        if self.rightchild:\n",
    "            newnode.rightchild = self.rightchild\n",
    "        self.rightchild = newnode\n",
    "\n",
    "    def insertleft_tree(self, key):\n",
    "        newnode = BinaryTree(key)\n",
    "        if self.leftchild:\n",
    "            newnode.leftchild = self.leftchild\n",
    "            newnode.rightchild = self.rightchild\n",
    "            self.rightchild = None\n",
    "        self.leftchild = newnode\n",
    "        \n",
    "    def insertright_tree(self, key):\n",
    "        newnode = BinaryTree(key)\n",
    "        if self.rightchild:\n",
    "            newnode.rightchild = self.rightchild\n",
    "            newnode.leftchild = self.leftchild\n",
    "            self.leftchild = None\n",
    "        self.rightchild = newnode\n",
    "        \n",
    "        \n",
    "    def show(self, node=None):\n",
    "        print(self.value)\n",
    "        if self.leftchild:\n",
    "            print('going left to ',end='')\n",
    "            self.leftchild.show()\n",
    "        if self.rightchild:\n",
    "            print('going right to',end='')\n",
    "            self.rightchild.show() \n",
    "            \n",
    "#        node = self if node is None else node\n",
    "#        print(node.value)\n",
    "#        if node.leftchild:\n",
    "#            self.show(node.leftchild)\n",
    "#        if node.rightchild:\n",
    "#            self.show(node.rightchild)\n"
   ]
  },
  {
   "cell_type": "code",
   "execution_count": null,
   "metadata": {
    "collapsed": false
   },
   "outputs": [],
   "source": [
    "r = BinaryTree('root')\n",
    "r.insertleft_tree('1.2.1')\n",
    "r.show()\n",
    "r.insertright_tree('1.2.2')\n",
    "r.show()\n",
    "r.insertright_tree('1.2')\n",
    "r.show()\n",
    "r.insertleft_tree('1.1')\n",
    "r.show()\n",
    "r.insertleft_tree('1')\n",
    "\n",
    "#r.insertright_tree('2')\n",
    "#r.insertright_tree('2.2')\n",
    "#r.insertright_tree('2.2.2')\n",
    "r.show()"
   ]
  },
  {
   "cell_type": "code",
   "execution_count": null,
   "metadata": {
    "collapsed": false
   },
   "outputs": [],
   "source": [
    "class BinHeap(object):\n",
    "    def __init__(self):\n",
    "        self.heap = [0]  #[5,9,11,14,18,19,21,33,17,27]\n",
    "        self.heap_size = 0\n",
    "        \n",
    "    def insert_heap(self, value):\n",
    "        self.heap.append(value)\n",
    "        self.heap_size += 1 \n",
    "        \n",
    "        heap_upper = self.heap_size - 1\n",
    "        heap_lower = heap_upper // 2\n",
    "        while self.heap[heap_upper] < self.heap[heap_lower]:\n",
    "            (self.heap[heap_lower], self.heap[heap_upper]) = (self.heap[heap_upper], self.heap[heap_lower])\n",
    "            heap_upper = heap_lower\n",
    "            heap_lower //= 2\n",
    " \n",
    "    def move_down(self, position):\n",
    "        heap_lower = position\n",
    "        heap_upper = heap_lower * 2\n",
    "        while heap_upper <= self.heap_size:\n",
    "            heap_upper1 = heap_upper + 1 if self.heap_size > heap_upper else heap_upper\n",
    "#            print(heap_lower, heap_upper, heap_upper1, self.heap_size, self.heap)\n",
    "            if min(self.heap[heap_upper], self.heap[heap_upper1]) < self.heap[heap_lower]:\n",
    "                if self.heap[heap_upper] < self.heap[heap_upper1]:\n",
    "                    (self.heap[heap_lower], self.heap[heap_upper]) = (self.heap[heap_upper], self.heap[heap_lower])\n",
    "                else:\n",
    "                    (self.heap[heap_lower], self.heap[heap_upper1]) = (self.heap[heap_upper1], self.heap[heap_lower])\n",
    "            heap_lower = heap_upper\n",
    "            heap_upper *= 2\n",
    "\n",
    "    def del_min(self):\n",
    "        if self.heap_size < 1:\n",
    "            return None\n",
    "        \n",
    "        result = self.heap[1]\n",
    "        self.heap[1] = self.heap[self.heap_size]\n",
    "        self.heap.pop()\n",
    "        self.heap_size -= 1\n",
    "        \n",
    "        self.move_down(1)\n",
    "        return result\n",
    "    \n",
    "    def build_heap(self, param):\n",
    "        self.heap_size = len(param)\n",
    "        self.heap = [0] + param\n",
    "        for i in range(self.heap_size //2, 0,-1):\n",
    "            self.move_down(i)\n",
    "        print('built heap', self.heap)\n",
    "    \n",
    "    def show(self):\n",
    "        print('heap ', self.heap)"
   ]
  },
  {
   "cell_type": "code",
   "execution_count": null,
   "metadata": {
    "collapsed": false
   },
   "outputs": [],
   "source": [
    "h=BinHeap()\n",
    "sample=[27,9,33,14,18,5,17,11,21,19]\n",
    "h.build_heap(sample)\n",
    "\n",
    "h.show()\n",
    "print('bing ',h.del_min())\n",
    "h.show()\n",
    "print('bing ',h.del_min())\n",
    "h.show()\n",
    "print('bing ',h.del_min())\n",
    "h.show()\n",
    "print('bing ',h.del_min())\n",
    "h.show()\n",
    "print('bing ',h.del_min())\n",
    "h.show()\n",
    "print('bing ',h.del_min())\n",
    "h.show()\n",
    "print('bing ',h.del_min())\n",
    "h.show()\n",
    "print('bing ',h.del_min())\n",
    "h.show()\n",
    "print('bing ',h.del_min())\n",
    "h.show()\n",
    "print('bing ',h.del_min())\n",
    "h.show()\n",
    "print('bing ',h.del_min())\n",
    "h.show()"
   ]
  },
  {
   "cell_type": "code",
   "execution_count": 14,
   "metadata": {
    "collapsed": false
   },
   "outputs": [],
   "source": [
    "class TreeNode:\n",
    "    \n",
    "    def __init__(self,key,val,left=None,right=None,parent=None):\n",
    "        self.key = key\n",
    "        self.payload = val\n",
    "        self.leftChild = left\n",
    "        self.rightChild = right\n",
    "        self.parent = parent\n",
    "\n",
    "    def hasLeftChild(self):\n",
    "        return self.leftChild\n",
    "\n",
    "    def hasRightChild(self):\n",
    "        return self.rightChild\n",
    "\n",
    "    def isLeftChild(self):\n",
    "        return self.parent and self.parent.leftChild == self\n",
    "\n",
    "    def isRightChild(self):\n",
    "        return self.parent and self.parent.rightChild == self\n",
    "\n",
    "    def isRoot(self):\n",
    "        return not self.parent\n",
    "\n",
    "    def isLeaf(self):\n",
    "        return not (self.rightChild or self.leftChild)\n",
    "\n",
    "    def hasAnyChildren(self):\n",
    "        return self.rightChild or self.leftChild\n",
    "\n",
    "    def hasBothChildren(self):\n",
    "        return self.rightChild and self.leftChild\n",
    "\n",
    "    def replaceNodeData(self,key,value,lc,rc):\n",
    "        self.key = key\n",
    "        self.payload = value\n",
    "        self.leftChild = lc\n",
    "        self.rightChild = rc\n",
    "        if self.hasLeftChild():\n",
    "            self.leftChild.parent = self\n",
    "        if self.hasRightChild():\n",
    "            self.rightChild.parent = self\n",
    "\n",
    "\n",
    "class BinarySearchTree:\n",
    "\n",
    "    def __init__(self):\n",
    "        self.root = None\n",
    "        self.size = 0\n",
    "\n",
    "    def length(self):\n",
    "        return self.size\n",
    "\n",
    "    def __len__(self):\n",
    "        return self.size\n",
    "\n",
    "    def put(self,key,val):\n",
    "        if self.root:\n",
    "            self._put(key,val,self.root)\n",
    "        else:\n",
    "            self.root = TreeNode(key,val)\n",
    "        self.size = self.size + 1\n",
    "\n",
    "    def _put(self,key,val,currentNode):\n",
    "        if key < currentNode.key:\n",
    "            if currentNode.hasLeftChild():\n",
    "                   self._put(key,val,currentNode.leftChild)\n",
    "            else:\n",
    "                   currentNode.leftChild = TreeNode(key,val,parent=currentNode)\n",
    "        else:\n",
    "            if currentNode.hasRightChild():\n",
    "                   self._put(key,val,currentNode.rightChild)\n",
    "            else:\n",
    "                   currentNode.rightChild = TreeNode(key,val,parent=currentNode)\n",
    "\n",
    "    def __setitem__(self,k,v):\n",
    "        self.put(k,v)\n",
    "\n",
    "    def get(self,key):\n",
    "        if self.root:\n",
    "            res = self._get(key,self.root)\n",
    "            if res:\n",
    "                \n",
    "                return res.payload\n",
    "            else:\n",
    "                return None\n",
    "        else:\n",
    "            return None\n",
    "\n",
    "    def _get(self,key,currentNode):\n",
    "        \n",
    "        if not currentNode:\n",
    "            return None\n",
    "        elif currentNode.key == key:\n",
    "            return currentNode\n",
    "        elif key < currentNode.key:\n",
    "            return self._get(key,currentNode.leftChild)\n",
    "        else:\n",
    "            return self._get(key,currentNode.rightChild)\n",
    "\n",
    "    def __getitem__(self,key):\n",
    "        return self.get(key)\n",
    "\n",
    "    def __contains__(self,key):\n",
    "        if self._get(key,self.root):\n",
    "            return True\n",
    "        else:\n",
    "            return False\n",
    "\n",
    "    def delete(self,key):\n",
    "        \n",
    "        if self.size > 1:\n",
    "            \n",
    "            nodeToRemove = self._get(key,self.root)\n",
    "            if nodeToRemove:\n",
    "                self.remove(nodeToRemove)\n",
    "                self.size = self.size-1\n",
    "            else:\n",
    "                raise KeyError('Error, key not in tree')\n",
    "        elif self.size == 1 and self.root.key == key:\n",
    "            self.root = None\n",
    "            self.size = self.size - 1\n",
    "        else:\n",
    "            raise KeyError('Error, key not in tree')\n",
    "\n",
    "    def __delitem__(self,key):\n",
    "        \n",
    "        self.delete(key)\n",
    "\n",
    "    def spliceOut(self):\n",
    "        if self.isLeaf():\n",
    "            if self.isLeftChild():\n",
    "                \n",
    "                self.parent.leftChild = None\n",
    "            else:\n",
    "                self.parent.rightChild = None\n",
    "        elif self.hasAnyChildren():\n",
    "            if self.hasLeftChild():\n",
    "                \n",
    "                if self.isLeftChild():\n",
    "                    \n",
    "                    self.parent.leftChild = self.leftChild\n",
    "                else:\n",
    "                    \n",
    "                    self.parent.rightChild = self.leftChild\n",
    "                    self.leftChild.parent = self.parent\n",
    "        else:\n",
    "                    \n",
    "            if self.isLeftChild():\n",
    "                        \n",
    "                self.parent.leftChild = self.rightChild\n",
    "            else:\n",
    "                self.parent.rightChild = self.rightChild\n",
    "                self.rightChild.parent = self.parent\n",
    "\n",
    "    def findSuccessor(self):\n",
    "        \n",
    "        succ = None\n",
    "        if self.hasRightChild():\n",
    "            succ = self.rightChild.findMin()\n",
    "        else:\n",
    "            if self.parent:\n",
    "                \n",
    "                if self.isLeftChild():\n",
    "                    \n",
    "                    succ = self.parent\n",
    "                else:\n",
    "                    self.parent.rightChild = None\n",
    "                    succ = self.parent.findSuccessor()\n",
    "                    self.parent.rightChild = self\n",
    "        return succ\n",
    "\n",
    "    def findMin(self):\n",
    "        \n",
    "        current = self\n",
    "        while current.hasLeftChild():\n",
    "            current = current.leftChild\n",
    "        return current\n",
    "\n",
    "    def remove(self,currentNode):\n",
    "        \n",
    "        if currentNode.isLeaf(): #leaf\n",
    "            if currentNode == currentNode.parent.leftChild:\n",
    "                currentNode.parent.leftChild = None\n",
    "            else:\n",
    "                currentNode.parent.rightChild = None\n",
    "        elif currentNode.hasBothChildren(): #interior\n",
    "            \n",
    "            succ = currentNode.findSuccessor()\n",
    "            succ.spliceOut()\n",
    "            currentNode.key = succ.key\n",
    "            currentNode.payload = succ.payload\n",
    "\n",
    "        else: # this node has one child\n",
    "            if currentNode.hasLeftChild():\n",
    "                if currentNode.isLeftChild():\n",
    "                    currentNode.leftChild.parent = currentNode.parent\n",
    "                    currentNode.parent.leftChild = currentNode.leftChild\n",
    "                elif currentNode.isRightChild():\n",
    "                    currentNode.leftChild.parent = currentNode.parent\n",
    "                    currentNode.parent.rightChild = currentNode.leftChild\n",
    "                else:\n",
    "                \n",
    "                    currentNode.replaceNodeData(currentNode.leftChild.key,\n",
    "                                    currentNode.leftChild.payload,\n",
    "                                    currentNode.leftChild.leftChild,\n",
    "                                    currentNode.leftChild.rightChild)\n",
    "            else:\n",
    "                \n",
    "                if currentNode.isLeftChild():\n",
    "                    currentNode.rightChild.parent = currentNode.parent\n",
    "                    currentNode.parent.leftChild = currentNode.rightChild\n",
    "                elif currentNode.isRightChild():\n",
    "                    currentNode.rightChild.parent = currentNode.parent\n",
    "                    currentNode.parent.rightChild = currentNode.rightChild\n",
    "                else:\n",
    "                    currentNode.replaceNodeData(currentNode.rightChild.key,\n",
    "                                    currentNode.rightChild.payload,\n",
    "                                    currentNode.rightChild.leftChild,\n",
    "                                    currentNode.rightChild.rightChild)\n",
    "                    \n",
    "    def traverse(self, node=None):\n",
    "        if node is not None:\n",
    "            self.traverse(node.leftChild)\n",
    "            print (node.key, node.payload)\n",
    "            self.traverse(node.rightChild)\n"
   ]
  },
  {
   "cell_type": "code",
   "execution_count": 24,
   "metadata": {
    "collapsed": false
   },
   "outputs": [
    {
     "name": "stdout",
     "output_type": "stream",
     "text": [
      "None\n",
      "at\n"
     ]
    }
   ],
   "source": [
    "mytree = BinarySearchTree()\n",
    "mytree[3]=\"red\"\n",
    "mytree[4]=\"blue\"\n",
    "mytree[6]=\"yellow\"\n",
    "mytree[2]=\"at\"\n",
    "\n",
    "print(mytree[1])\n",
    "print(mytree[2])"
   ]
  },
  {
   "cell_type": "code",
   "execution_count": 25,
   "metadata": {
    "collapsed": false
   },
   "outputs": [
    {
     "name": "stdout",
     "output_type": "stream",
     "text": [
      "2 at\n",
      "3 red\n",
      "4 blue\n",
      "6 yellow\n"
     ]
    }
   ],
   "source": [
    "mytree.traverse(mytree.root)"
   ]
  },
  {
   "cell_type": "code",
   "execution_count": 113,
   "metadata": {
    "collapsed": false
   },
   "outputs": [],
   "source": [
    "class Vertex(object):\n",
    "    def __init__(self, key):\n",
    "        self.key = key\n",
    "        self.connected_to = {}\n",
    "        \n",
    "    def add_neighbour(self, nbr, weight):\n",
    "        self.connected_to[nbr] = weight\n",
    "        \n",
    "    def get_neighbours(self):\n",
    "        return self.connected_to.keys()\n",
    "    \n",
    "    def get_neighbour_weight(self, nbrobj):\n",
    "        return self.connected_to[nbrobj]\n",
    "    \n",
    "    def get_key(self):\n",
    "        return self.key\n",
    "    \n",
    "    def __str__(self):\n",
    "        return str(self.key) + ' connected to ' + str([ x.key for x in self.connected_to])\n",
    "    \n",
    "class Graph(object):\n",
    "    def __init__(self):\n",
    "        self.vertex_list = {}\n",
    "        self.num_verticies = 0\n",
    "        \n",
    "    def add_vertex(self, key):\n",
    "        new_vertex = Vertex(key)\n",
    "        self.num_verticies += 1\n",
    "        self.vertex_list[key]= new_vertex\n",
    "        return new_vertex\n",
    "    \n",
    "    def get_vertex(self, v):\n",
    "        if v in self.vertex_list:\n",
    "            return self.vertex_list[n]\n",
    "        else:\n",
    "            return None\n",
    "    \n",
    "    def add_edge(self, from_vert, to_vert, weight=0):\n",
    "        if from_vert not in self.vertex_list:\n",
    "            new_vertex = self.add_vertex(from_vert)\n",
    "        if to_vert not in self.vertex_list:\n",
    "            new_vertex = self.add_vertex(to_vert)     \n",
    "        self.vertex_list[from_vert].add_neighbour(self.vertex_list[to_vert], weight)\n",
    "        \n",
    "    def get_verticies(self):\n",
    "        return self.vertex_list.keys()\n",
    "        \n",
    "    def __iter__(self):\n",
    "        return iter(self.vertlist.values())\n",
    "    \n",
    "    def __contains__(self, v):\n",
    "        return v in self.vertex_list\n",
    "    "
   ]
  },
  {
   "cell_type": "code",
   "execution_count": 119,
   "metadata": {
    "collapsed": false
   },
   "outputs": [
    {
     "name": "stdout",
     "output_type": "stream",
     "text": [
      "0 connected to [1]\n"
     ]
    }
   ],
   "source": [
    "g = Graph()\n",
    "for i in range(6):\n",
    "    g.add_vertex(i)\n",
    "g.vertex_list\n",
    "g.add_edge(0,1,99)\n",
    "print(g.vertex_list[0])"
   ]
  },
  {
   "cell_type": "code",
   "execution_count": null,
   "metadata": {
    "collapsed": true
   },
   "outputs": [],
   "source": [
    "graph = {'A': set(['B', 'C']),\n",
    "         'B': set(['A', 'D', 'E']),\n",
    "         'C': set(['A', 'F']),\n",
    "         'D': set(['B']),\n",
    "         'E': set(['B', 'F']),\n",
    "         'F': set(['C', 'E'])}"
   ]
  },
  {
   "cell_type": "code",
   "execution_count": 124,
   "metadata": {
    "collapsed": true
   },
   "outputs": [],
   "source": [
    "from enum import Enum\n",
    "from collections import OrderedDict\n",
    "class State(Enum):\n",
    "    unvisited = 1\n",
    "    visited = 2\n",
    "    visiting = 3\n",
    "\n",
    "class Node(object):\n",
    "    def __init__(self, num):\n",
    "        self.num=num\n",
    "        self.state = State.unvisited\n",
    "        self.adjacent = OrderedDict()  #key = node, value = weight\n",
    "    def __str__(self):\n",
    "        return self.num\n",
    "    \n",
    "class Graph(object):\n",
    "    def __init__(self):\n",
    "        self.nodes = OrderedDict()\n",
    "        \n",
    "    def add_node(self, num):\n",
    "        node = Node(num)\n",
    "        self.nodes[num] = node\n",
    "        return node\n",
    "    \n",
    "    def add_edge(self, from_node, to_node, weight=0):\n",
    "        if from_node not in self.nodes:\n",
    "            self.add_node(from_node)\n",
    "        if to_node not in self.nodes:\n",
    "            self.add_node(to_node)\n",
    "        self.nodes[from_node].adjacent[self.nodes[to_node]] = weight\n"
   ]
  },
  {
   "cell_type": "code",
   "execution_count": 135,
   "metadata": {
    "collapsed": true
   },
   "outputs": [],
   "source": [
    "g=Graph()\n",
    "g.add_edge('A','B')\n",
    "g.add_edge('A','C')\n",
    "g.add_edge('B','A')\n",
    "g.add_edge('B','D')\n",
    "g.add_edge('B','E')\n",
    "g.add_edge('C','A')\n",
    "g.add_edge('C','F')\n",
    "g.add_edge('D','B')\n",
    "g.add_edge('E','B')\n",
    "g.add_edge('E','F')\n",
    "g.add_edge('F','C')\n",
    "g.add_edge('F','E')"
   ]
  },
  {
   "cell_type": "code",
   "execution_count": 208,
   "metadata": {
    "collapsed": false
   },
   "outputs": [],
   "source": [
    "def bfs(graph, start):\n",
    "    visited = set()\n",
    "    queue = [start]\n",
    "    while queue:\n",
    "        node = queue.pop(0)\n",
    "        if node not in visited:\n",
    "            visited.add(node)\n",
    "            queue.extend(set(node.num for node in g.nodes[node].adjacent) - visited)\n",
    "    return visited\n",
    "\n",
    "def bfs_paths(graph, start, goal):\n",
    "    queue = [(start, [start])]\n",
    "    while queue:\n",
    "        (vertex, path) = queue.pop(0)\n",
    "        for next1 in set(node.num for node in graph.nodes[vertex].adjacent) - set(path):\n",
    "            if next1 == goal:\n",
    "                yield path + [next1]\n",
    "            else:\n",
    "                queue.append((next1, path + [next1]))"
   ]
  },
  {
   "cell_type": "code",
   "execution_count": 214,
   "metadata": {
    "collapsed": false
   },
   "outputs": [
    {
     "name": "stdout",
     "output_type": "stream",
     "text": [
      "[['A', 'C', 'F'], ['A', 'B', 'E', 'F']]\n"
     ]
    },
    {
     "data": {
      "text/plain": [
       "{'A', 'B', 'C', 'D', 'E', 'F'}"
      ]
     },
     "execution_count": 214,
     "metadata": {},
     "output_type": "execute_result"
    }
   ],
   "source": [
    "print(list(bfs_paths(g, 'A', 'F')))\n",
    "bfs (g, 'A')"
   ]
  },
  {
   "cell_type": "code",
   "execution_count": 223,
   "metadata": {
    "collapsed": true
   },
   "outputs": [],
   "source": [
    "def dfs(graph, start):\n",
    "    visited = set()\n",
    "    stack = [start]\n",
    "    while stack:\n",
    "        node = stack.pop()\n",
    "        if node not in visited:\n",
    "            visited.add(node)\n",
    "            stack.extend(set(node.num for node in g.nodes[node].adjacent) - visited)\n",
    "    return visited\n",
    "\n",
    "def dfs_paths(graph, start, goal):\n",
    "    stack = [(start, [start])]\n",
    "    while stack:\n",
    "        (vertex, path) = stack.pop()\n",
    "        for next1 in set(node.num for node in graph.nodes[vertex].adjacent) - set(path):\n",
    "            if next1 == goal:\n",
    "                yield path + [next1]\n",
    "            else:\n",
    "                stack.append((next1, path + [next1]))"
   ]
  },
  {
   "cell_type": "code",
   "execution_count": 224,
   "metadata": {
    "collapsed": false
   },
   "outputs": [
    {
     "name": "stdout",
     "output_type": "stream",
     "text": [
      "[['A', 'B', 'E', 'F'], ['A', 'C', 'F']]\n"
     ]
    },
    {
     "data": {
      "text/plain": [
       "{'A', 'B', 'C', 'D', 'E', 'F'}"
      ]
     },
     "execution_count": 224,
     "metadata": {},
     "output_type": "execute_result"
    }
   ],
   "source": [
    "print(list(dfs_paths(g, 'A', 'F')))\n",
    "dfs (g, 'A')"
   ]
  },
  {
   "cell_type": "code",
   "execution_count": 232,
   "metadata": {
    "collapsed": false
   },
   "outputs": [
    {
     "name": "stdout",
     "output_type": "stream",
     "text": [
      "1 100.0\n",
      "2 51.0\n",
      "3 35.333333333333336\n",
      "4 28.0\n",
      "5 24.0\n",
      "6 21.666666666666668\n",
      "7 20.285714285714285\n",
      "8 19.5\n",
      "9 19.11111111111111\n",
      "10 19.0\n",
      "11 19.090909090909093\n",
      "12 19.333333333333336\n",
      "13 19.692307692307693\n",
      "14 20.142857142857142\n",
      "15 20.666666666666668\n",
      "16 21.25\n",
      "17 21.88235294117647\n",
      "18 22.555555555555557\n",
      "19 23.263157894736842\n"
     ]
    }
   ],
   "source": [
    "floors=100\n",
    "for i in range(1,20):\n",
    "    drops = floors/i + i -1\n",
    "    print(i,drops)"
   ]
  },
  {
   "cell_type": "code",
   "execution_count": 266,
   "metadata": {
    "collapsed": false
   },
   "outputs": [
    {
     "name": "stdout",
     "output_type": "stream",
     "text": [
      "100000 loops, best of 3: 4.32 µs per loop\n",
      "100000 loops, best of 3: 5.09 µs per loop\n"
     ]
    }
   ],
   "source": [
    "prices = [12,11,15,3,10]\n",
    "prices = [10,12,14,12,13,11,8,7,6,13,23,45,11,10]\n",
    "def opt(prices):\n",
    "    buy = sell = 0\n",
    "    for time, price in enumerate(prices):\n",
    "        if price < prices[buy] and max(prices[time:len(prices)]) > price:\n",
    "            buy = time\n",
    "        if price > prices[sell] or buy > sell:\n",
    "            sell = time\n",
    "    return prices[sell] - prices[buy]\n",
    "\n",
    "def profit(stock_prices):\n",
    "    \n",
    "    # Start minimum price marker at first price\n",
    "    min_stock_price = stock_prices[0]\n",
    "    \n",
    "    # Start off with a profit of zero\n",
    "    max_profit = 0\n",
    "    \n",
    "    for price in stock_prices:\n",
    "        \n",
    "        # Check to set the lowest stock price so far\n",
    "        min_stock_price = min(min_stock_price,price)\n",
    "        \n",
    "        # Check the current price against our minimum for a profit \n",
    "        # comparison against the max_profit\n",
    "        comparison_profit = price - min_stock_price\n",
    "        \n",
    "        # Compare against our max_profit so far\n",
    "        max_profit = max(max_profit,comparison_profit)\n",
    "        \n",
    "    return max_profit\n",
    "\n",
    "%timeit opt(prices)\n",
    "%timeit profit(prices)"
   ]
  },
  {
   "cell_type": "code",
   "execution_count": 312,
   "metadata": {
    "collapsed": false
   },
   "outputs": [
    {
     "name": "stdout",
     "output_type": "stream",
     "text": [
      "100000 loops, best of 3: 2.5 µs per loop\n",
      "100000 loops, best of 3: 2.55 µs per loop\n"
     ]
    }
   ],
   "source": [
    "# For example, an input of [1,2,3,4] would return [24,12,8,6] by performing [2×3×4,1×3×4,1×2×4,1×2×3]\n",
    "def mult(alist):\n",
    "    result=[]\n",
    "    for n in alist:\n",
    "        total = 1\n",
    "        for other in alist:\n",
    "           if other != n:\n",
    "               total =  total * other\n",
    "        result.append(total)\n",
    "    return result\n",
    "\n",
    "def index_prod(lst):\n",
    "    \n",
    "    # Create an empty output list\n",
    "    output = [None] * len(lst)\n",
    "    \n",
    "    # Set initial product and index for greedy run forward\n",
    "    product = 1\n",
    "    i = 0\n",
    "    \n",
    "    while i < len(lst):\n",
    "        \n",
    "        # Set index as cumulative product\n",
    "        output[i] = product\n",
    "        \n",
    "        # Cumulative product\n",
    "        product *= lst[i]\n",
    "        \n",
    "        # Move forward\n",
    "        i +=1\n",
    "        \n",
    "    \n",
    "    # Now for our Greedy run Backwards\n",
    "    product = 1\n",
    "    \n",
    "    # Start index at last (taking into account index 0)\n",
    "    i = len(lst) - 1\n",
    "    \n",
    "    # Until the beginning of the list\n",
    "    while i >=0:\n",
    "        \n",
    "        # Same operations as before, just backwards\n",
    "        output[i] *= product\n",
    "        product *= lst[i]\n",
    "        i -= 1\n",
    "        \n",
    "    return output   \n",
    "\n",
    "%timeit mult([1,2,3,4,5])\n",
    "\n",
    "%timeit index_prod([1,2,3,4,5])"
   ]
  },
  {
   "cell_type": "code",
   "execution_count": 313,
   "metadata": {
    "collapsed": false
   },
   "outputs": [
    {
     "data": {
      "text/plain": [
       "{'h': 12, 'w': None, 'x': None, 'y': 4}"
      ]
     },
     "execution_count": 313,
     "metadata": {},
     "output_type": "execute_result"
    }
   ],
   "source": [
    "r0 = {   # x and y coordinates of the bottom-left corner of the rectangle\n",
    "         'x': 2 , 'y': 4,\n",
    "         # Width and Height of rectangle\n",
    "         'w':5,'h':12}\n",
    "r1 = {   # x and y coordinates of the bottom-left corner of the rectangle\n",
    "         'x': 2 , 'y': 4,\n",
    "         # Width and Height of rectangle\n",
    "         'w':5,'h':12}\n",
    "\n",
    "def overlap(shape, nshape):\n",
    "    if nshape['y'] >= shape['y'] and nshape['y'] + nshape['h'] <= shape['y'] + shape['h']:  #total y overlap\n",
    "        yover = nshape['y']\n",
    "        hover = nshape['h']\n",
    "    elif shape['y'] + shape['y'] < nshape['y'] + nshape['h'] < shape['y'] + shape['h']:  # bottom y overlap\n",
    "        yover = shape['y']\n",
    "        hover = nshape['h'] - (shape['y'] - nshape['y'])   \n",
    "    elif shape['y'] < nshape['y'] < shape['y'] + shape['h']:  # bottom y overlap\n",
    "        yover = nshape['y']\n",
    "        hover = nshape['h'] - (nshape['y'] - shape['y']) \n",
    "    else:\n",
    "        yover = 0\n",
    "        hover = 0\n",
    "    return {'x':None, 'y': yover, 'w': None, 'h': hover}\n",
    "\n",
    "overlap(r0,r1) "
   ]
  },
  {
   "cell_type": "code",
   "execution_count": 316,
   "metadata": {
    "collapsed": true
   },
   "outputs": [],
   "source": [
    "def fib(n):\n",
    "    if type(n) is not int:\n",
    "        return None\n",
    "    \n",
    "    if n<=2:\n",
    "        return 1\n",
    "    \n",
    "    return fib(n-1) + fib(n-2)\n",
    "    "
   ]
  },
  {
   "cell_type": "code",
   "execution_count": 321,
   "metadata": {
    "collapsed": false
   },
   "outputs": [
    {
     "data": {
      "text/plain": [
       "55"
      ]
     },
     "execution_count": 321,
     "metadata": {},
     "output_type": "execute_result"
    }
   ],
   "source": [
    "fib(10)"
   ]
  },
  {
   "cell_type": "code",
   "execution_count": 394,
   "metadata": {
    "collapsed": false
   },
   "outputs": [],
   "source": [
    "import random\n",
    "\n",
    "def five_sided():\n",
    "    result = 0\n",
    "    for i in range(5):\n",
    "        result = result + random.randint(1,7)\n",
    "    return result % 5 + 1\n",
    "\n",
    "def seven_sided():\n",
    "    result = 0\n",
    "    for i in range(7):\n",
    "        result = result + random.randint(1,5)\n",
    "    return result % 7 + 1"
   ]
  },
  {
   "cell_type": "code",
   "execution_count": 396,
   "metadata": {
    "collapsed": false
   },
   "outputs": [
    {
     "name": "stdout",
     "output_type": "stream",
     "text": [
      "[0, 1457, 1382, 1444, 1424, 1509, 1391, 1393, 0, 0]\n"
     ]
    }
   ],
   "source": [
    "freq=[0]*10\n",
    "for i in range(10000):\n",
    "    r=seven_sided()\n",
    "    freq[r] +=1\n",
    "print(freq)"
   ]
  },
  {
   "cell_type": "code",
   "execution_count": 384,
   "metadata": {
    "collapsed": false
   },
   "outputs": [],
   "source": [
    "def reverse(s):\n",
    "    if type(s) is not str:\n",
    "        return None\n",
    "    \n",
    "    if len(s) <= 1:\n",
    "        return s\n",
    "    \n",
    "    return s[-1] + reverse(s[0:-1])"
   ]
  },
  {
   "cell_type": "code",
   "execution_count": 385,
   "metadata": {
    "collapsed": false
   },
   "outputs": [
    {
     "data": {
      "text/plain": [
       "'edcba'"
      ]
     },
     "execution_count": 385,
     "metadata": {},
     "output_type": "execute_result"
    }
   ],
   "source": [
    "reverse('abcde')"
   ]
  },
  {
   "cell_type": "code",
   "execution_count": 434,
   "metadata": {
    "collapsed": false
   },
   "outputs": [],
   "source": [
    "def sqroot(n):\n",
    "    if type(n) not in (int, float) or n < 1:\n",
    "        raise ValueError\n",
    "    \n",
    "    for i in range(1, int(n/2+1)):\n",
    "        if i * i > n:\n",
    "            break\n",
    "    return i - 1"
   ]
  },
  {
   "cell_type": "code",
   "execution_count": 436,
   "metadata": {
    "collapsed": false
   },
   "outputs": [
    {
     "data": {
      "text/plain": [
       "3"
      ]
     },
     "execution_count": 436,
     "metadata": {},
     "output_type": "execute_result"
    }
   ],
   "source": [
    "sqroot(9)"
   ]
  },
  {
   "cell_type": "code",
   "execution_count": 461,
   "metadata": {
    "collapsed": true
   },
   "outputs": [],
   "source": [
    "def largest_product(alist):\n",
    "    sorted_list = sorted(alist)\n",
    "    first_two_are_negative_product = sorted_list[0] * sorted_list[1] * sorted_list[-1]\n",
    "    ifall_negative_product = sorted_list[0] * sorted_list[1] * sorted_list[2]\n",
    "    ifall_positive_product = sorted_list[-1] * sorted_list[-2] * sorted_list[-3]\n",
    "    return max(first_two_are_negative_product, ifall_negative_product, ifall_positive_product)\n",
    "\n",
    "def solution(lst):\n",
    "    high = max(lst[0],lst[1])\n",
    "    low = min(lst[0],lst[1])\n",
    "    high_prod2 = lst[0]*lst[1]\n",
    "    low_prod2 = lst[0]*lst[1]\n",
    "    high_prod3 = lst[0]*lst[1]*lst[2]\n",
    "    for num in lst[2:]:\n",
    "        high_prod3 = max(high_prod3,num*high_prod2,num*low_prod2)\n",
    "        high_prod2 = max(high_prod2,num*high,num*low)\n",
    "        low_prod2 = min(low_prod2,num*high,num*low)\n",
    "        high = max(high,num)\n",
    "        low = min(low,num)\n",
    "    return high_prod3"
   ]
  },
  {
   "cell_type": "code",
   "execution_count": 462,
   "metadata": {
    "collapsed": false
   },
   "outputs": [
    {
     "data": {
      "text/plain": [
       "120"
      ]
     },
     "execution_count": 462,
     "metadata": {},
     "output_type": "execute_result"
    }
   ],
   "source": [
    "largest_product([5,4,2,3,6,1])"
   ]
  },
  {
   "cell_type": "code",
   "execution_count": 465,
   "metadata": {
    "collapsed": false
   },
   "outputs": [
    {
     "name": "stdout",
     "output_type": "stream",
     "text": [
      "10000 loops, best of 3: 20.4 µs per loop\n",
      "100000 loops, best of 3: 2.15 µs per loop\n"
     ]
    }
   ],
   "source": [
    "l = [99,-82,82,40,75,-24,39, -82, 5, 30, -25, -94, 93, -23, 48, 50, 49,-81,41,63]\n",
    "%timeit solution(l)\n",
    "%timeit largest_product(l)"
   ]
  },
  {
   "cell_type": "code",
   "execution_count": 554,
   "metadata": {
    "collapsed": false
   },
   "outputs": [],
   "source": [
    "def removal(astring):\n",
    "    result = set()\n",
    "    for ch in astring:\n",
    "        if ch not in result:\n",
    "            result.add(ch)\n",
    "    return ''.join(result)\n",
    "\n",
    "def removeDuplicates(string): \n",
    "    result=[] \n",
    "    seen=set() \n",
    "    \n",
    "    for char in string: \n",
    "        if char not in seen: \n",
    "            seen.add(char) \n",
    "            result.append(char)\n",
    "            \n",
    "    return ''.join(result) "
   ]
  },
  {
   "cell_type": "code",
   "execution_count": 555,
   "metadata": {
    "collapsed": false
   },
   "outputs": [
    {
     "name": "stdout",
     "output_type": "stream",
     "text": [
      "The slowest run took 4.24 times longer than the fastest. This could mean that an intermediate result is being cached.\n",
      "100000 loops, best of 3: 1.99 µs per loop\n",
      "100000 loops, best of 3: 2.52 µs per loop\n"
     ]
    }
   ],
   "source": [
    "%timeit removal('tree traversal')\n",
    "%timeit removeDuplicates('tree traversal')"
   ]
  },
  {
   "cell_type": "code",
   "execution_count": 559,
   "metadata": {
    "collapsed": false
   },
   "outputs": [],
   "source": [
    "def cansum(alist, target):\n",
    "    i = 0\n",
    "    found = False\n",
    "    while not found and i < len(alist):\n",
    "        j = i+1\n",
    "        while not found and j < len(alist):\n",
    "            found =  (alist[i] + alist[j] == target)\n",
    "            j += 1\n",
    "        i += 1\n",
    "    return found\n",
    "\n",
    "def solution(lst,target):\n",
    "    \n",
    "    # Create set to keep track of duplicates\n",
    "    seen = set()\n",
    "    \n",
    "    # We want to find if there is a num2 that sums with num to reach the target\n",
    "    \n",
    "    for num in lst:\n",
    "        \n",
    "        num2 = target - num\n",
    "        \n",
    "        if num2 in seen:\n",
    "            return True\n",
    "        \n",
    "        seen.add(num)\n",
    "        \n",
    "    # If we never find a pair match which creates the sum\n",
    "    return False"
   ]
  },
  {
   "cell_type": "code",
   "execution_count": 563,
   "metadata": {
    "collapsed": false
   },
   "outputs": [
    {
     "name": "stdout",
     "output_type": "stream",
     "text": [
      "100000 loops, best of 3: 2.93 µs per loop\n",
      "100000 loops, best of 3: 2.1 µs per loop\n"
     ]
    }
   ],
   "source": [
    "%timeit cansum([7,3,4,9,2,5,3,7,9,2,11,15,18,1,7,3,4,9,2,5,3,7,9,2,10,15,18,1],25)\n",
    "%timeit solution([7,3,4,9,2,5,3,7,9,2,11,15,18,1,7,3,4,9,2,5,3,7,9,2,10,15,18,1],25)"
   ]
  },
  {
   "cell_type": "code",
   "execution_count": 565,
   "metadata": {
    "collapsed": false
   },
   "outputs": [],
   "source": [
    "def unique(alist):\n",
    "    occurence={}\n",
    "    for n in alist:\n",
    "        if n in occurence:\n",
    "            occurence[n] +=1\n",
    "        else:\n",
    "            occurence[n] =1\n",
    "    for n, occ in occurence.items():\n",
    "        if occ == 1:\n",
    "            return n\n",
    "        \n",
    "def unique2(alist):\n",
    "    for i, n in enumerate(alist):\n",
    "        if not n in alist[i+1:]+alist[0:i]:\n",
    "            return n\n",
    "    return None\n",
    "\n",
    "def solution(id_list):\n",
    "    \n",
    "    # Initiate unique Id\n",
    "    unique_id = 0\n",
    "    \n",
    "    # XOR fo revery id in id list\n",
    "    for i in id_list:\n",
    "        \n",
    "        # XOR operation\n",
    "        unique_id ^= i\n",
    "    \n",
    "    return unique_id"
   ]
  },
  {
   "cell_type": "code",
   "execution_count": 570,
   "metadata": {
    "collapsed": false
   },
   "outputs": [
    {
     "name": "stdout",
     "output_type": "stream",
     "text": [
      "The slowest run took 4.09 times longer than the fastest. This could mean that an intermediate result is being cached.\n",
      "1000000 loops, best of 3: 1.25 µs per loop\n",
      "1000000 loops, best of 3: 518 ns per loop\n"
     ]
    }
   ],
   "source": [
    "alist=[5,3,5,8,8,4,4]\n",
    "%timeit unique2(alist)\n",
    "%timeit solution(alist)"
   ]
  },
  {
   "cell_type": "code",
   "execution_count": 594,
   "metadata": {
    "collapsed": true
   },
   "outputs": [],
   "source": [
    "def sorter(unsorted, maxprice):\n",
    "    result=[0]*(maxprice+1)\n",
    "    \n",
    "    for price in unsorted:\n",
    "        result[price] +=1\n",
    "    sorted_prices =[]\n",
    "    for price, count in enumerate(result):\n",
    "        for i in range(count):\n",
    "            sorted_prices.append(price)\n",
    "            \n",
    "    return sorted_prices\n",
    "\n",
    "def solution(unsorted_prices,max_price):\n",
    "    \n",
    "    prices_to_counts = [0]* (max_price+1)\n",
    "    \n",
    "    for price in unsorted_prices:\n",
    "        prices_to_counts[price] +=1\n",
    "        \n",
    "    sorted_prices = []\n",
    "    for price,count in enumerate(prices_to_counts):\n",
    "        for time in range(count):\n",
    "            sorted_prices.append(price)\n",
    "            \n",
    "    return sorted_prices"
   ]
  },
  {
   "cell_type": "code",
   "execution_count": 593,
   "metadata": {
    "collapsed": false
   },
   "outputs": [
    {
     "name": "stdout",
     "output_type": "stream",
     "text": [
      "[0, 0, 1, 1, 1, 0, 1, 1, 1, 1]\n"
     ]
    },
    {
     "data": {
      "text/plain": [
       "[2, 3, 4, 6, 7, 8, 9]"
      ]
     },
     "execution_count": 593,
     "metadata": {},
     "output_type": "execute_result"
    }
   ],
   "source": [
    "solution([4,6,2,7,3,8,9],9)\n",
    "sorter([4,6,2,7,3,8,9],9)"
   ]
  },
  {
   "cell_type": "code",
   "execution_count": null,
   "metadata": {
    "collapsed": true
   },
   "outputs": [],
   "source": []
  },
  {
   "cell_type": "code",
   "execution_count": null,
   "metadata": {
    "collapsed": true
   },
   "outputs": [],
   "source": []
  },
  {
   "cell_type": "code",
   "execution_count": null,
   "metadata": {
    "collapsed": true
   },
   "outputs": [],
   "source": []
  },
  {
   "cell_type": "code",
   "execution_count": null,
   "metadata": {
    "collapsed": true
   },
   "outputs": [],
   "source": []
  },
  {
   "cell_type": "code",
   "execution_count": null,
   "metadata": {
    "collapsed": true
   },
   "outputs": [],
   "source": []
  },
  {
   "cell_type": "code",
   "execution_count": null,
   "metadata": {
    "collapsed": true
   },
   "outputs": [],
   "source": []
  },
  {
   "cell_type": "code",
   "execution_count": null,
   "metadata": {
    "collapsed": true
   },
   "outputs": [],
   "source": []
  },
  {
   "cell_type": "code",
   "execution_count": null,
   "metadata": {
    "collapsed": true
   },
   "outputs": [],
   "source": []
  },
  {
   "cell_type": "code",
   "execution_count": null,
   "metadata": {
    "collapsed": true
   },
   "outputs": [],
   "source": []
  },
  {
   "cell_type": "code",
   "execution_count": null,
   "metadata": {
    "collapsed": true
   },
   "outputs": [],
   "source": []
  }
 ],
 "metadata": {
  "anaconda-cloud": {},
  "kernelspec": {
   "display_name": "Python [Root]",
   "language": "python",
   "name": "Python [Root]"
  },
  "language_info": {
   "codemirror_mode": {
    "name": "ipython",
    "version": 3
   },
   "file_extension": ".py",
   "mimetype": "text/x-python",
   "name": "python",
   "nbconvert_exporter": "python",
   "pygments_lexer": "ipython3",
   "version": "3.5.2"
  }
 },
 "nbformat": 4,
 "nbformat_minor": 0
}
