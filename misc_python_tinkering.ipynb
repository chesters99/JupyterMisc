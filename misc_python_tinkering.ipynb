{
 "cells": [
  {
   "cell_type": "code",
   "execution_count": 1,
   "metadata": {
    "collapsed": true
   },
   "outputs": [],
   "source": [
    "# line profiler example 1\n",
    "\n",
    "import numpy as np\n",
    "\n",
    "def appendifnot(arr, x):\n",
    "    if not x in arr:\n",
    "        arr.append(x)\n",
    "    \n",
    "def useless():\n",
    "    arr = list()\n",
    "    for i in range(10000):\n",
    "        x = np.random.randint(0,10000)\n",
    "        appendifnot(arr, x)"
   ]
  },
  {
   "cell_type": "code",
   "execution_count": 3,
   "metadata": {},
   "outputs": [
    {
     "name": "stdout",
     "output_type": "stream",
     "text": [
      "Timer unit: 1e-06 s\n",
      "\n",
      "Total time: 0.32515 s\n",
      "File: <ipython-input-1-0f87f809430a>\n",
      "Function: appendifnot at line 5\n",
      "\n",
      "Line #      Hits         Time  Per Hit   % Time  Line Contents\n",
      "==============================================================\n",
      "     5                                           def appendifnot(arr, x):\n",
      "     6     10000       322030     32.2     99.0      if not x in arr:\n",
      "     7      6286         3120      0.5      1.0          arr.append(x)\n",
      "\n",
      "Total time: 0.363336 s\n",
      "File: <ipython-input-1-0f87f809430a>\n",
      "Function: useless at line 9\n",
      "\n",
      "Line #      Hits         Time  Per Hit   % Time  Line Contents\n",
      "==============================================================\n",
      "     9                                           def useless():\n",
      "    10         1            1      1.0      0.0      arr = list()\n",
      "    11     10001         3158      0.3      0.9      for i in range(10000):\n",
      "    12     10000        24197      2.4      6.7          x = np.random.randint(0,10000)\n",
      "    13     10000       335980     33.6     92.5          appendifnot(arr, x)\n",
      "\n"
     ]
    }
   ],
   "source": [
    "# line profiler via python\n",
    "import line_profiler\n",
    "lp = line_profiler.LineProfiler()\n",
    "lp.add_function(useless)\n",
    "lp.add_function(appendifnot)\n",
    "lp.runctx('useless()', locals=locals(), globals=globals())\n",
    "lp.print_stats()"
   ]
  },
  {
   "cell_type": "code",
   "execution_count": 4,
   "metadata": {
    "collapsed": true
   },
   "outputs": [],
   "source": [
    "# line profiler via cell magics \n",
    "%reload_ext line_profiler\n",
    "%lprun -f useless useless()"
   ]
  },
  {
   "cell_type": "code",
   "execution_count": 7,
   "metadata": {},
   "outputs": [
    {
     "name": "stderr",
     "output_type": "stream",
     "text": [
      "/Users/graham/anaconda/lib/python3.6/site-packages/IPython/html.py:14: ShimWarning: The `IPython.html` package has been deprecated since IPython 4.0. You should import from `notebook` instead. `IPython.html.widgets` has moved to `ipywidgets`.\n",
      "  \"`IPython.html.widgets` has moved to `ipywidgets`.\", ShimWarning)\n"
     ]
    },
    {
     "name": "stdout",
     "output_type": "stream",
     "text": [
      "Waiting for connection file: ~/.ipython/profile_default/security/ipcontroller-client.json\n"
     ]
    },
    {
     "ename": "OSError",
     "evalue": "Connection file '~/.ipython/profile_default/security/ipcontroller-client.json' not found.\nYou have attempted to connect to an IPython Cluster but no Controller could be found.\nPlease double-check your configuration and ensure that a cluster is running.",
     "output_type": "error",
     "traceback": [
      "\u001b[0;31m---------------------------------------------------------------------------\u001b[0m",
      "\u001b[0;31mOSError\u001b[0m                                   Traceback (most recent call last)",
      "\u001b[0;32m<ipython-input-7-731ccc10b85a>\u001b[0m in \u001b[0;36m<module>\u001b[0;34m()\u001b[0m\n\u001b[1;32m      7\u001b[0m \u001b[0;32mfrom\u001b[0m \u001b[0mIPython\u001b[0m\u001b[0;34m.\u001b[0m\u001b[0mhtml\u001b[0m \u001b[0;32mimport\u001b[0m \u001b[0mwidgets\u001b[0m\u001b[0;34m\u001b[0m\u001b[0m\n\u001b[1;32m      8\u001b[0m \u001b[0;34m\u001b[0m\u001b[0m\n\u001b[0;32m----> 9\u001b[0;31m \u001b[0mrc\u001b[0m\u001b[0;34m=\u001b[0m \u001b[0mClient\u001b[0m\u001b[0;34m(\u001b[0m\u001b[0;34m)\u001b[0m\u001b[0;34m\u001b[0m\u001b[0m\n\u001b[0m\u001b[1;32m     10\u001b[0m \u001b[0mview\u001b[0m \u001b[0;34m=\u001b[0m \u001b[0mrc\u001b[0m\u001b[0;34m.\u001b[0m\u001b[0mload_balanced_view\u001b[0m\u001b[0;34m(\u001b[0m\u001b[0;34m)\u001b[0m\u001b[0;34m\u001b[0m\u001b[0m\n\u001b[1;32m     11\u001b[0m \u001b[0;34m\u001b[0m\u001b[0m\n",
      "\u001b[0;32m/Users/graham/anaconda/lib/python3.6/site-packages/ipyparallel/client/client.py\u001b[0m in \u001b[0;36m__init__\u001b[0;34m(self, url_file, profile, profile_dir, ipython_dir, context, debug, sshserver, sshkey, password, paramiko, timeout, cluster_id, **extra_args)\u001b[0m\n\u001b[1;32m    395\u001b[0m                         \u001b[0mno_file_msg\u001b[0m\u001b[0;34m,\u001b[0m\u001b[0;34m\u001b[0m\u001b[0m\n\u001b[1;32m    396\u001b[0m                     ])\n\u001b[0;32m--> 397\u001b[0;31m                     \u001b[0;32mraise\u001b[0m \u001b[0mIOError\u001b[0m\u001b[0;34m(\u001b[0m\u001b[0mmsg\u001b[0m\u001b[0;34m)\u001b[0m\u001b[0;34m\u001b[0m\u001b[0m\n\u001b[0m\u001b[1;32m    398\u001b[0m         \u001b[0;32mif\u001b[0m \u001b[0murl_file\u001b[0m \u001b[0;32mis\u001b[0m \u001b[0;32mNone\u001b[0m\u001b[0;34m:\u001b[0m\u001b[0;34m\u001b[0m\u001b[0m\n\u001b[1;32m    399\u001b[0m             \u001b[0;32mraise\u001b[0m \u001b[0mIOError\u001b[0m\u001b[0;34m(\u001b[0m\u001b[0mno_file_msg\u001b[0m\u001b[0;34m)\u001b[0m\u001b[0;34m\u001b[0m\u001b[0m\n",
      "\u001b[0;31mOSError\u001b[0m: Connection file '~/.ipython/profile_default/security/ipcontroller-client.json' not found.\nYou have attempted to connect to an IPython Cluster but no Controller could be found.\nPlease double-check your configuration and ensure that a cluster is running."
     ]
    }
   ],
   "source": [
    "# ipyparallel example\n",
    "\n",
    "import time\n",
    "import sys\n",
    "from ipyparallel import Client\n",
    "from IPython.display import clear_output, display\n",
    "from IPython.html import widgets\n",
    "\n",
    "rc= Client()\n",
    "view = rc.load_balanced_view()\n",
    "\n",
    "#@parallel(view, block=True)\n",
    "def f(x):\n",
    "    import time\n",
    "    time.sleep(0.1)\n",
    "    return x * x\n",
    "\n",
    "numbers = list(range(20))\n",
    "rc.ids"
   ]
  },
  {
   "cell_type": "code",
   "execution_count": null,
   "metadata": {
    "collapsed": true
   },
   "outputs": [],
   "source": [
    "ar = view.map_async(f, numbers)  # run it"
   ]
  },
  {
   "cell_type": "code",
   "execution_count": null,
   "metadata": {
    "collapsed": true
   },
   "outputs": [],
   "source": [
    "print(ar.metadata[0])  # print results\n",
    "for val in ar:\n",
    "    print(val, end=', ')"
   ]
  },
  {
   "cell_type": "code",
   "execution_count": 8,
   "metadata": {},
   "outputs": [
    {
     "name": "stderr",
     "output_type": "stream",
     "text": [
      "ERROR:root:Cell magic `%%px` not found.\n"
     ]
    }
   ],
   "source": [
    "%%px  # cell magic to run in parallel\n",
    "print('qwe')"
   ]
  },
  {
   "cell_type": "code",
   "execution_count": 9,
   "metadata": {
    "collapsed": true
   },
   "outputs": [],
   "source": [
    "# calculate pi in cpython and time it\n",
    "\n",
    "def calc_pi_cpython(n):\n",
    "    start_time = time()\n",
    "    delta = 1 / n\n",
    "    summ = 0.0\n",
    "    for i in range (1, n+1):\n",
    "        x = (i - 0.5) * delta\n",
    "        summ += 1 / (1 + x * x)\n",
    "    pi = 4 * delta * summ\n",
    "    return (pi, time() - start_time )"
   ]
  },
  {
   "cell_type": "code",
   "execution_count": 10,
   "metadata": {
    "collapsed": true
   },
   "outputs": [],
   "source": [
    "# calculate pi using numba and time it\n",
    "\n",
    "from time import time\n",
    "from numba import jit\n",
    "\n",
    "@jit\n",
    "def calc_pi_numba(n):\n",
    "    start_time = time()\n",
    "    delta = 1 / n\n",
    "    summ = 0.0\n",
    "    for i in range (1, n+1):\n",
    "        x = (i - 0.5) * delta\n",
    "        summ += 1 / (1 + x * x)\n",
    "    pi = 4 * delta * summ\n",
    "    return (pi, time() - start_time )"
   ]
  },
  {
   "cell_type": "code",
   "execution_count": 11,
   "metadata": {
    "collapsed": true
   },
   "outputs": [],
   "source": [
    "%load_ext Cython"
   ]
  },
  {
   "cell_type": "code",
   "execution_count": 12,
   "metadata": {
    "collapsed": true
   },
   "outputs": [],
   "source": [
    "%%cython\n",
    "# calculate pi using cython and time it\n",
    "\n",
    "cimport cython\n",
    "from time import time\n",
    "\n",
    "@cython.boundscheck(False) \n",
    "@cython.wraparound(False)\n",
    "cpdef calc_pi_cython(n):\n",
    "    cdef unsigned long start_time, i\n",
    "    cdef double delta, summ, x, pi\n",
    "    start_time = time()\n",
    "    delta = 1 / n\n",
    "    summ = 0.0\n",
    "    for i in range (1, n+1):\n",
    "        x = (i - 0.5) * delta\n",
    "        summ += 1 / (1 + x * x)\n",
    "    pi = 4 * delta * summ\n",
    "    return (pi, time() - start_time )"
   ]
  },
  {
   "cell_type": "code",
   "execution_count": 13,
   "metadata": {},
   "outputs": [
    {
     "name": "stdout",
     "output_type": "stream",
     "text": [
      "CPython Pi=3.141592653589731, time=1.360976219177246\n",
      "Numba Pi=3.141592653589731, time=0.05402183532714844\n",
      "Cython Pi=3.141592653589731, time=0.6495518684387207\n",
      "100 loops, best of 3: 11.1 ms per loop\n",
      "100 loops, best of 3: 14.7 ms per loop\n"
     ]
    }
   ],
   "source": [
    "n = 10000000\n",
    "pi, duration = calc_pi_cpython(n)\n",
    "print('CPython Pi=%s, time=%s' % (pi, duration))\n",
    "\n",
    "pi, duration = calc_pi_numba(n)\n",
    "print('Numba Pi=%s, time=%s' % (pi, duration)) \n",
    "\n",
    "pi, duration = calc_pi_cython(n)\n",
    "print('Cython Pi=%s, time=%s' % (pi, duration))\n",
    "\n",
    "#%timeit pi = calc_pi_cpython(n)\n",
    "%timeit pi = calc_pi_numba(n)\n",
    "%timeit pi = calc_pi_cython(n)"
   ]
  },
  {
   "cell_type": "code",
   "execution_count": 14,
   "metadata": {},
   "outputs": [
    {
     "data": {
      "text/html": [
       "<style>table {float:left}</style>"
      ],
      "text/plain": [
       "<IPython.core.display.HTML object>"
      ]
     },
     "metadata": {},
     "output_type": "display_data"
    }
   ],
   "source": [
    "%%html \n",
    "<style>table {float:left}</style>"
   ]
  },
  {
   "cell_type": "markdown",
   "metadata": {},
   "source": [
    "<h2 align=\"center\">Bayes Theorem</h2> \n",
    "\n",
    "\\begin{align}\n",
    "P(A/B) = \\frac{P(A) * P(B/A)}{ P(B) }\n",
    "\\end{align}"
   ]
  },
  {
   "cell_type": "code",
   "execution_count": 15,
   "metadata": {},
   "outputs": [
    {
     "name": "stdout",
     "output_type": "stream",
     "text": [
      "prob of being drug user given that tested positive 0.5000\n"
     ]
    }
   ],
   "source": [
    "# bayes theorem example with 1% of people being a drug user, and drug test accuracy of 99%\n",
    "# P(A) = P(being drug user) = 1%, P(B) = probability of positive test, P(B/A) = P(positive test given being drug user)\n",
    "accuracy = 0.99\n",
    "usage = 0.01\n",
    "prob = usage * accuracy / (accuracy * usage + (1 - accuracy) * (1 - usage))\n",
    "print('prob of being drug user given that tested positive %0.4f' % prob)"
   ]
  },
  {
   "cell_type": "markdown",
   "metadata": {},
   "source": [
    "[click here for google](http://www.google.com)\n",
    "\n",
    "![here is a picture](https://www.python.org/static/img/python-logo.png)\n",
    "\n",
    "<img src=https://www.python.org/static/img/python-logo.png width=150  alt=here is a pic/>\n",
    "\n",
    "\n",
    "*in italics*\n",
    "**in Bold**\n",
    "***in bold and italics***\n",
    "\n",
    "\n",
    "| heading 1  | heading 2 | heading 3 | heading 1  | heading 2 | heading 3 |\n",
    "|------------|-----------|-----------|------------|-----------|-----------|\n",
    "| content 1  | content 1 | content 1 | content 1  | content 1 | content 1 |\n",
    "| content 1  | content 1 | content 1 | content 1  | content 1 | content 1 |\n"
   ]
  },
  {
   "cell_type": "code",
   "execution_count": 16,
   "metadata": {},
   "outputs": [
    {
     "data": {
      "image/png": "[encoded data removed]",
      "text/plain": [
       "<IPython.core.display.Image object>"
      ]
     },
     "execution_count": 16,
     "metadata": {
      "image/png": {
       "width": 200
      }
     },
     "output_type": "execute_result"
    }
   ],
   "source": [
    "from IPython.display import Image\n",
    "Image('https://www.python.org/static/img/python-logo.png', width=200)"
   ]
  },
  {
   "cell_type": "code",
   "execution_count": 17,
   "metadata": {},
   "outputs": [
    {
     "name": "stderr",
     "output_type": "stream",
     "text": [
      "...."
     ]
    },
    {
     "name": "stdout",
     "output_type": "stream",
     "text": [
      "started class\n",
      "started test\n",
      "ended test\n",
      "started test\n",
      "ended test\n",
      "started test\n",
      "ended test\n",
      "started test\n",
      "ended test\n",
      "ended class\n"
     ]
    },
    {
     "name": "stderr",
     "output_type": "stream",
     "text": [
      "\n",
      "----------------------------------------------------------------------\n",
      "Ran 4 tests in 0.003s\n",
      "\n",
      "OK\n"
     ]
    },
    {
     "data": {
      "text/plain": [
       "<unittest.runner.TextTestResult run=4 errors=0 failures=0>"
      ]
     },
     "execution_count": 17,
     "metadata": {},
     "output_type": "execute_result"
    }
   ],
   "source": [
    "# testing in ipython\n",
    "\n",
    "def foo(data):\n",
    "    return data\n",
    "\n",
    "# import pytest # note doesnt work from iPython\n",
    "import unittest\n",
    "import sys\n",
    "\n",
    "class Tests(unittest.TestCase):\n",
    "    @classmethod\n",
    "    def setUpClass(cls):\n",
    "        print('started class')\n",
    "        \n",
    "    @classmethod\n",
    "    def tearDownClass(cls):\n",
    "        print('ended class')\n",
    "        \n",
    "    def setUp(self):\n",
    "        print('started test')\n",
    "        self.data1 = 4\n",
    "        self.data2 = 4.1\n",
    "        \n",
    "    def tearDown(self):\n",
    "        print('ended test')\n",
    "    \n",
    "    def test_value(self):\n",
    "        self.assertEqual(foo(self.data1), self.data1)\n",
    "        \n",
    "    def test_type(self):\n",
    "        self.assertIs(type(foo(self.data1)), int)\n",
    "        \n",
    "    def test_bool(self):\n",
    "        self.assertFalse(foo(self.data2) == self.data1)\n",
    "        \n",
    "    def test_exception(self):\n",
    "        with self.assertRaises(TypeError):\n",
    "            foo(self.data1, self.data2)\n",
    "\n",
    "tests = unittest.TestLoader().loadTestsFromTestCase( Tests )\n",
    "unittest.TextTestRunner(verbosity=1,stream=sys.stderr).run( tests )\n",
    "\n",
    "#assertEqual(a, b)\ta == b\n",
    "#assertNotEqual(a, b)\ta != b\n",
    "#assertTrue(x)\tbool(x) is True\n",
    "#assertFalse(x)\tbool(x) is False\n",
    "#assertIs(a, b)\ta is b\n",
    "#assertIsNot(a, b)\ta is not b\n",
    "#assertIsNone(x)\tx is None\n",
    "#assertIsNotNone(x)\tx is not None\n",
    "#assertIn(a, b)\ta in b\n",
    "#assertNotIn(a, b)\ta not in b\n",
    "#assertIsInstance(a, b)\tisinstance(a, b)\n",
    "#assertNotIsInstance(a, b)\tnot isinstance(a, b)\n",
    "\n",
    "#assertRaises(exc, fun, *args, **kwds)\tfun(*args, **kwds) raises exc \n",
    "#assertRaisesRegex(exc, r, fun, *args, **kwds)\tfun(*args, **kwds) raises exc and the message matches regex r\n",
    "#assertWarns(warn, fun, *args, **kwds)\tfun(*args, **kwds) raises warn\n",
    "#assertWarnsRegex(warn, r, fun, *args, **kwds)\tfun(*args, **kwds) raises warn and the message matches regex r\n",
    "#assertLogs(logger, level)\tThe with block logs on logger with minimum level\n",
    "\n",
    "#assertAlmostEqual(a, b)\tround(a-b, 7) == 0\n",
    "#assertNotAlmostEqual(a, b)\tround(a-b, 7) != 0 \n",
    "#assertGreater(a, b)\ta > b\n",
    "#assertGreaterEqual(a, b)\ta >= b\n",
    "#assertLess(a, b)\ta < b\n",
    "#assertLessEqual(a, b)\ta <= b\n",
    "#assertRegex(s, r)\tr.search(s)\n",
    "#assertNotRegex(s, r)\tnot r.search(s)\n",
    "#assertCountEqual(a, b)\ta and b have the same elements in the same number, regardless of their order\n",
    "\n",
    "#assertMultiLineEqual(a, b)\tstrings\n",
    "#assertSequenceEqual(a, b)\tsequences\n",
    "#assertListEqual(a, b)\tlists\n",
    "#assertTupleEqual(a, b)\ttuples\n",
    "#assertSetEqual(a, b)\tsets or frozensets\n",
    "#assertDictEqual(a, b)\tdicts"
   ]
  },
  {
   "cell_type": "code",
   "execution_count": 18,
   "metadata": {
    "collapsed": true
   },
   "outputs": [],
   "source": [
    "# logging example for long processes\n",
    "\n",
    "import logging\n",
    "from datetime import datetime\n",
    "def start_logger():\n",
    "    logging.basicConfig(filename='test_%s.log' % datetime.strftime(datetime.now(),'%Y%m%d_%H%M%S'),\n",
    "                        level=logging.DEBUG,\n",
    "                        format='%(asctime)s %(message)s',\n",
    "                        datefmt='%Y-%m-%d %H:%M:%S')\n",
    "    return None\n",
    "\n",
    "start_logger()\n",
    "logging.debug(\"A useless log message\")"
   ]
  },
  {
   "cell_type": "code",
   "execution_count": 19,
   "metadata": {},
   "outputs": [
    {
     "ename": "NoSectionError",
     "evalue": "No section: 'email'",
     "output_type": "error",
     "traceback": [
      "\u001b[0;31m---------------------------------------------------------------------------\u001b[0m",
      "\u001b[0;31mKeyError\u001b[0m                                  Traceback (most recent call last)",
      "\u001b[0;32m/Users/graham/anaconda/lib/python3.6/configparser.py\u001b[0m in \u001b[0;36m_unify_values\u001b[0;34m(self, section, vars)\u001b[0m\n\u001b[1;32m   1137\u001b[0m         \u001b[0;32mtry\u001b[0m\u001b[0;34m:\u001b[0m\u001b[0;34m\u001b[0m\u001b[0m\n\u001b[0;32m-> 1138\u001b[0;31m             \u001b[0msectiondict\u001b[0m \u001b[0;34m=\u001b[0m \u001b[0mself\u001b[0m\u001b[0;34m.\u001b[0m\u001b[0m_sections\u001b[0m\u001b[0;34m[\u001b[0m\u001b[0msection\u001b[0m\u001b[0;34m]\u001b[0m\u001b[0;34m\u001b[0m\u001b[0m\n\u001b[0m\u001b[1;32m   1139\u001b[0m         \u001b[0;32mexcept\u001b[0m \u001b[0mKeyError\u001b[0m\u001b[0;34m:\u001b[0m\u001b[0;34m\u001b[0m\u001b[0m\n",
      "\u001b[0;31mKeyError\u001b[0m: 'email'",
      "\nDuring handling of the above exception, another exception occurred:\n",
      "\u001b[0;31mNoSectionError\u001b[0m                            Traceback (most recent call last)",
      "\u001b[0;32m<ipython-input-19-90f969251dd4>\u001b[0m in \u001b[0;36m<module>\u001b[0;34m()\u001b[0m\n\u001b[1;32m     46\u001b[0m     \u001b[0mserver\u001b[0m\u001b[0;34m.\u001b[0m\u001b[0mclose\u001b[0m\u001b[0;34m(\u001b[0m\u001b[0;34m)\u001b[0m\u001b[0;34m\u001b[0m\u001b[0m\n\u001b[1;32m     47\u001b[0m \u001b[0;34m\u001b[0m\u001b[0m\n\u001b[0;32m---> 48\u001b[0;31m \u001b[0mmail\u001b[0m\u001b[0;34m(\u001b[0m\u001b[0mto\u001b[0m\u001b[0;34m=\u001b[0m\u001b[0;34m[\u001b[0m\u001b[0;34m'chesters99@yahoo.com'\u001b[0m\u001b[0;34m]\u001b[0m\u001b[0;34m,\u001b[0m \u001b[0msubject\u001b[0m\u001b[0;34m=\u001b[0m\u001b[0;34m'test from iPython'\u001b[0m\u001b[0;34m,\u001b[0m \u001b[0mtext\u001b[0m\u001b[0;34m=\u001b[0m\u001b[0;34m'nothing to say'\u001b[0m\u001b[0;34m,\u001b[0m \u001b[0mattach\u001b[0m\u001b[0;34m=\u001b[0m\u001b[0;34m'README.rst'\u001b[0m\u001b[0;34m)\u001b[0m\u001b[0;34m\u001b[0m\u001b[0m\n\u001b[0m",
      "\u001b[0;32m<ipython-input-19-90f969251dd4>\u001b[0m in \u001b[0;36mmail\u001b[0;34m(to, subject, text, attach, config)\u001b[0m\n\u001b[1;32m     28\u001b[0m         \u001b[0mconfig\u001b[0m \u001b[0;34m=\u001b[0m \u001b[0mget_config\u001b[0m\u001b[0;34m(\u001b[0m\u001b[0;34m'DEV'\u001b[0m\u001b[0;34m)\u001b[0m\u001b[0;34m\u001b[0m\u001b[0m\n\u001b[1;32m     29\u001b[0m     \u001b[0mmsg\u001b[0m \u001b[0;34m=\u001b[0m \u001b[0mMIMEMultipart\u001b[0m\u001b[0;34m(\u001b[0m\u001b[0;34m)\u001b[0m\u001b[0;34m\u001b[0m\u001b[0m\n\u001b[0;32m---> 30\u001b[0;31m     \u001b[0mmsg\u001b[0m\u001b[0;34m[\u001b[0m\u001b[0;34m'From'\u001b[0m\u001b[0;34m]\u001b[0m \u001b[0;34m=\u001b[0m \u001b[0mconfig\u001b[0m\u001b[0;34m.\u001b[0m\u001b[0mget\u001b[0m\u001b[0;34m(\u001b[0m\u001b[0;34m'email'\u001b[0m\u001b[0;34m,\u001b[0m\u001b[0;34m'user'\u001b[0m\u001b[0;34m)\u001b[0m\u001b[0;34m\u001b[0m\u001b[0m\n\u001b[0m\u001b[1;32m     31\u001b[0m     \u001b[0mmsg\u001b[0m\u001b[0;34m[\u001b[0m\u001b[0;34m'To'\u001b[0m\u001b[0;34m]\u001b[0m \u001b[0;34m=\u001b[0m \u001b[0;34m\", \"\u001b[0m\u001b[0;34m.\u001b[0m\u001b[0mjoin\u001b[0m\u001b[0;34m(\u001b[0m\u001b[0mto\u001b[0m\u001b[0;34m)\u001b[0m\u001b[0;34m\u001b[0m\u001b[0m\n\u001b[1;32m     32\u001b[0m     \u001b[0mmsg\u001b[0m\u001b[0;34m[\u001b[0m\u001b[0;34m'Subject'\u001b[0m\u001b[0;34m]\u001b[0m \u001b[0;34m=\u001b[0m \u001b[0msubject\u001b[0m\u001b[0;34m\u001b[0m\u001b[0m\n",
      "\u001b[0;32m/Users/graham/anaconda/lib/python3.6/configparser.py\u001b[0m in \u001b[0;36mget\u001b[0;34m(self, section, option, raw, vars, fallback)\u001b[0m\n\u001b[1;32m    779\u001b[0m         \"\"\"\n\u001b[1;32m    780\u001b[0m         \u001b[0;32mtry\u001b[0m\u001b[0;34m:\u001b[0m\u001b[0;34m\u001b[0m\u001b[0m\n\u001b[0;32m--> 781\u001b[0;31m             \u001b[0md\u001b[0m \u001b[0;34m=\u001b[0m \u001b[0mself\u001b[0m\u001b[0;34m.\u001b[0m\u001b[0m_unify_values\u001b[0m\u001b[0;34m(\u001b[0m\u001b[0msection\u001b[0m\u001b[0;34m,\u001b[0m \u001b[0mvars\u001b[0m\u001b[0;34m)\u001b[0m\u001b[0;34m\u001b[0m\u001b[0m\n\u001b[0m\u001b[1;32m    782\u001b[0m         \u001b[0;32mexcept\u001b[0m \u001b[0mNoSectionError\u001b[0m\u001b[0;34m:\u001b[0m\u001b[0;34m\u001b[0m\u001b[0m\n\u001b[1;32m    783\u001b[0m             \u001b[0;32mif\u001b[0m \u001b[0mfallback\u001b[0m \u001b[0;32mis\u001b[0m \u001b[0m_UNSET\u001b[0m\u001b[0;34m:\u001b[0m\u001b[0;34m\u001b[0m\u001b[0m\n",
      "\u001b[0;32m/Users/graham/anaconda/lib/python3.6/configparser.py\u001b[0m in \u001b[0;36m_unify_values\u001b[0;34m(self, section, vars)\u001b[0m\n\u001b[1;32m   1139\u001b[0m         \u001b[0;32mexcept\u001b[0m \u001b[0mKeyError\u001b[0m\u001b[0;34m:\u001b[0m\u001b[0;34m\u001b[0m\u001b[0m\n\u001b[1;32m   1140\u001b[0m             \u001b[0;32mif\u001b[0m \u001b[0msection\u001b[0m \u001b[0;34m!=\u001b[0m \u001b[0mself\u001b[0m\u001b[0;34m.\u001b[0m\u001b[0mdefault_section\u001b[0m\u001b[0;34m:\u001b[0m\u001b[0;34m\u001b[0m\u001b[0m\n\u001b[0;32m-> 1141\u001b[0;31m                 \u001b[0;32mraise\u001b[0m \u001b[0mNoSectionError\u001b[0m\u001b[0;34m(\u001b[0m\u001b[0msection\u001b[0m\u001b[0;34m)\u001b[0m\u001b[0;34m\u001b[0m\u001b[0m\n\u001b[0m\u001b[1;32m   1142\u001b[0m         \u001b[0;31m# Update with the entry specific variables\u001b[0m\u001b[0;34m\u001b[0m\u001b[0;34m\u001b[0m\u001b[0m\n\u001b[1;32m   1143\u001b[0m         \u001b[0mvardict\u001b[0m \u001b[0;34m=\u001b[0m \u001b[0;34m{\u001b[0m\u001b[0;34m}\u001b[0m\u001b[0;34m\u001b[0m\u001b[0m\n",
      "\u001b[0;31mNoSectionError\u001b[0m: No section: 'email'"
     ]
    }
   ],
   "source": [
    "#  emailing from python, with attached file\n",
    "\n",
    "# BTW config files should look like:\n",
    "#[email]\n",
    "#user=gchester99@gmail.com\n",
    "#password=hudson-99\n",
    "\n",
    "import smtplib\n",
    "from email.mime.multipart import MIMEMultipart\n",
    "from email.mime.base import MIMEBase\n",
    "from email.mime.text import MIMEText\n",
    "from email import encoders\n",
    "import os\n",
    "import configparser\n",
    "\n",
    "def get_config(env):\n",
    "    config = configparser.ConfigParser()\n",
    "    if env == 'TEST':\n",
    "        config.read(['test.cfg,'])\n",
    "    elif env == 'PROD':\n",
    "        config.read(['prod.cfg'])\n",
    "    else:\n",
    "        config.read(['dev.cfg'])\n",
    "    return config\n",
    "\n",
    "def mail(to, subject, text, attach=None, config=None):\n",
    "    if not config:\n",
    "        config = get_config('DEV')\n",
    "    msg = MIMEMultipart()\n",
    "    msg['From'] = config.get('email','user')\n",
    "    msg['To'] = \", \".join(to)\n",
    "    msg['Subject'] = subject\n",
    "    msg.attach(MIMEText(text))\n",
    "    if attach:\n",
    "        part = MIMEBase('application','octet-stream')\n",
    "        part.set_payload( open(attach, 'rb').read() )\n",
    "        encoders.encode_base64(part)\n",
    "        part.add_header('Content-Disposition', 'attachment; filename=\"%s\"' % os.path.basename(attach))\n",
    "        msg.attach(part)\n",
    "    server = smtplib.SMTP('smtp.gmail.com', 587)\n",
    "    server.ehlo()\n",
    "    server.starttls()\n",
    "    server.ehlo()\n",
    "    server.login(config.get('email','user'), config.get('email', 'password'))\n",
    "    server.sendmail(config.get('email','user'), to, msg.as_string())\n",
    "    server.close()\n",
    "\n",
    "mail(to=['chesters99@yahoo.com'], subject='test from iPython', text='nothing to say', attach='README.rst')\n"
   ]
  },
  {
   "cell_type": "code",
   "execution_count": 20,
   "metadata": {},
   "outputs": [
    {
     "name": "stdout",
     "output_type": "stream",
     "text": [
      "StartingThread-1\n",
      "StartingThread-2\n",
      "Thread-1 Mon Jul 31 16:20:38 2017\n",
      "Thread-2 Mon Jul 31 16:20:39 2017\n",
      "Thread-1 Mon Jul 31 16:20:39 2017\n",
      "Thread-1 Mon Jul 31 16:20:40 2017\n",
      "Thread-2 Mon Jul 31 16:20:41 2017\n",
      "Thread-1 Mon Jul 31 16:20:41 2017\n",
      "Thread-1 Mon Jul 31 16:20:42 2017\n",
      "Exiting Thread-1\n",
      "Thread-2 Mon Jul 31 16:20:43 2017\n",
      "Thread-2 Mon Jul 31 16:20:45 2017\n",
      "Thread-2 Mon Jul 31 16:20:47 2017exiting main thread\n",
      "\n",
      "Exiting Thread-2\n"
     ]
    }
   ],
   "source": [
    "import threading\n",
    "import time\n",
    "\n",
    "class Mythread(threading.Thread):\n",
    "    def __init__(self, threadid, name, counter):\n",
    "        threading.Thread.__init__(self)\n",
    "        self. threadid = threadid\n",
    "        self.name = name\n",
    "        self.counter = counter\n",
    "    \n",
    "    def run(self):\n",
    "        print(\"Starting\" + self.name)\n",
    "#        threadLock.acquire()\n",
    "        print_time(self.name, self.counter, 5)\n",
    "#        threadLock.release()\n",
    "        print(\"Exiting \" + self.name)\n",
    "\n",
    "def print_time(threadname, delay, counter):\n",
    "    while counter:\n",
    "        if exitflag:\n",
    "            threadname.exit()\n",
    "        time.sleep(delay)\n",
    "        print (\"%s %s\" % (threadname, time.ctime(time.time())))\n",
    "        counter -= 1\n",
    "\n",
    "exitflag = 0        \n",
    "threadLock = threading.Lock()\n",
    "\n",
    "thread1= Mythread(1,'Thread-1',1)\n",
    "thread2= Mythread(2,'Thread-2',2)\n",
    "\n",
    "thread1.start()\n",
    "thread2.start()\n",
    "\n",
    "thread1.join()\n",
    "thread2.join()\n",
    "\n",
    "print(\"exiting main thread\")"
   ]
  },
  {
   "cell_type": "code",
   "execution_count": 21,
   "metadata": {},
   "outputs": [
    {
     "name": "stdout",
     "output_type": "stream",
     "text": [
      " server starting on Grahams-iMac\n"
     ]
    },
    {
     "ename": "KeyboardInterrupt",
     "evalue": "",
     "output_type": "error",
     "traceback": [
      "\u001b[0;31m---------------------------------------------------------------------------\u001b[0m",
      "\u001b[0;31mKeyboardInterrupt\u001b[0m                         Traceback (most recent call last)",
      "\u001b[0;32m<ipython-input-21-3d34bb669977>\u001b[0m in \u001b[0;36m<module>\u001b[0;34m()\u001b[0m\n\u001b[1;32m     10\u001b[0m \u001b[0ms\u001b[0m\u001b[0;34m.\u001b[0m\u001b[0mlisten\u001b[0m\u001b[0;34m(\u001b[0m\u001b[0;36m5\u001b[0m\u001b[0;34m)\u001b[0m\u001b[0;34m\u001b[0m\u001b[0m\n\u001b[1;32m     11\u001b[0m \u001b[0;32mwhile\u001b[0m \u001b[0;32mTrue\u001b[0m\u001b[0;34m:\u001b[0m\u001b[0;34m\u001b[0m\u001b[0m\n\u001b[0;32m---> 12\u001b[0;31m     \u001b[0mc\u001b[0m\u001b[0;34m,\u001b[0m \u001b[0maddr\u001b[0m \u001b[0;34m=\u001b[0m \u001b[0ms\u001b[0m\u001b[0;34m.\u001b[0m\u001b[0maccept\u001b[0m\u001b[0;34m(\u001b[0m\u001b[0;34m)\u001b[0m\u001b[0;34m\u001b[0m\u001b[0m\n\u001b[0m\u001b[1;32m     13\u001b[0m     \u001b[0mprint\u001b[0m\u001b[0;34m(\u001b[0m\u001b[0;34m\"got connection from \"\u001b[0m \u001b[0;34m+\u001b[0m \u001b[0mstr\u001b[0m\u001b[0;34m(\u001b[0m\u001b[0maddr\u001b[0m\u001b[0;34m)\u001b[0m\u001b[0;34m)\u001b[0m\u001b[0;34m\u001b[0m\u001b[0m\n\u001b[1;32m     14\u001b[0m     \u001b[0mc\u001b[0m\u001b[0;34m.\u001b[0m\u001b[0msend\u001b[0m\u001b[0;34m(\u001b[0m\u001b[0;34mb'thanks for connecting'\u001b[0m\u001b[0;34m)\u001b[0m\u001b[0;34m\u001b[0m\u001b[0m\n",
      "\u001b[0;32m/Users/graham/anaconda/lib/python3.6/socket.py\u001b[0m in \u001b[0;36maccept\u001b[0;34m(self)\u001b[0m\n\u001b[1;32m    203\u001b[0m         \u001b[0mFor\u001b[0m \u001b[0mIP\u001b[0m \u001b[0msockets\u001b[0m\u001b[0;34m,\u001b[0m \u001b[0mthe\u001b[0m \u001b[0maddress\u001b[0m \u001b[0minfo\u001b[0m \u001b[0;32mis\u001b[0m \u001b[0ma\u001b[0m \u001b[0mpair\u001b[0m \u001b[0;34m(\u001b[0m\u001b[0mhostaddr\u001b[0m\u001b[0;34m,\u001b[0m \u001b[0mport\u001b[0m\u001b[0;34m)\u001b[0m\u001b[0;34m.\u001b[0m\u001b[0;34m\u001b[0m\u001b[0m\n\u001b[1;32m    204\u001b[0m         \"\"\"\n\u001b[0;32m--> 205\u001b[0;31m         \u001b[0mfd\u001b[0m\u001b[0;34m,\u001b[0m \u001b[0maddr\u001b[0m \u001b[0;34m=\u001b[0m \u001b[0mself\u001b[0m\u001b[0;34m.\u001b[0m\u001b[0m_accept\u001b[0m\u001b[0;34m(\u001b[0m\u001b[0;34m)\u001b[0m\u001b[0;34m\u001b[0m\u001b[0m\n\u001b[0m\u001b[1;32m    206\u001b[0m         \u001b[0;31m# If our type has the SOCK_NONBLOCK flag, we shouldn't pass it onto the\u001b[0m\u001b[0;34m\u001b[0m\u001b[0;34m\u001b[0m\u001b[0m\n\u001b[1;32m    207\u001b[0m         \u001b[0;31m# new socket. We do not currently allow passing SOCK_NONBLOCK to\u001b[0m\u001b[0;34m\u001b[0m\u001b[0;34m\u001b[0m\u001b[0m\n",
      "\u001b[0;31mKeyboardInterrupt\u001b[0m: "
     ]
    }
   ],
   "source": [
    "#socket server\n",
    "import socket\n",
    "\n",
    "s=socket.socket()\n",
    "host = socket.gethostname()\n",
    "print(' server starting on ' + host)\n",
    "port=12345\n",
    "s.bind((host, port))\n",
    "\n",
    "s.listen(5)\n",
    "while True:\n",
    "    c, addr = s.accept()\n",
    "    print(\"got connection from \" + str(addr))\n",
    "    c.send(b'thanks for connecting')\n",
    "    c.close()"
   ]
  },
  {
   "cell_type": "code",
   "execution_count": null,
   "metadata": {
    "collapsed": true
   },
   "outputs": [],
   "source": [
    "# socket client needs to run from seperate workbook as ipython is single threaded\n",
    "import socket\n",
    "\n",
    "s=socket.socket()\n",
    "host = socket.gethostname()\n",
    "print('client starting on ' + host)\n",
    "port=12345\n",
    "s.connect((host, port))\n",
    "print(s.recv(1024))\n",
    "s.close()\n",
    "print('client done on ' + host)"
   ]
  },
  {
   "cell_type": "code",
   "execution_count": 22,
   "metadata": {},
   "outputs": [
    {
     "name": "stdout",
     "output_type": "stream",
     "text": [
      "2017-07-31 16:21:40.973115\n",
      "2017-07-31 16:21:41.976191\n",
      "2017-07-31 16:21:42.976459\n",
      "2017-07-31 16:21:43.976901\n",
      "2017-07-31 16:21:44.979931\n"
     ]
    }
   ],
   "source": [
    "import asyncio, datetime\n",
    "\n",
    "async def display_date(loop):\n",
    "    end_time = loop.time() + 5.0\n",
    "    while True:\n",
    "        print(datetime.datetime.now())\n",
    "        if (loop.time() + 1.0) >= end_time:\n",
    "            break\n",
    "        await asyncio.sleep(1)\n",
    "\n",
    "loop = asyncio.get_event_loop()\n",
    "loop.run_until_complete(display_date(loop))\n",
    "#loop.close()"
   ]
  },
  {
   "cell_type": "code",
   "execution_count": 23,
   "metadata": {},
   "outputs": [
    {
     "name": "stdout",
     "output_type": "stream",
     "text": [
      "Collecting snakeviz\n",
      "  Downloading snakeviz-0.4.1-py2.py3-none-any.whl (166kB)\n",
      "\u001b[K    100% |████████████████████████████████| 174kB 2.7MB/s ta 0:00:01\n",
      "\u001b[?25hRequirement already satisfied: tornado>=2.0 in /Users/graham/anaconda/lib/python3.6/site-packages (from snakeviz)\n",
      "Installing collected packages: snakeviz\n",
      "Successfully installed snakeviz-0.4.1\n"
     ]
    }
   ],
   "source": [
    "# install cprofile grapher\n",
    "!pip install snakeviz\n",
    "%load_ext snakeviz"
   ]
  },
  {
   "cell_type": "code",
   "execution_count": 24,
   "metadata": {
    "collapsed": true
   },
   "outputs": [],
   "source": [
    "# try out CProfiler\n",
    "import time\n",
    "\n",
    "def another():\n",
    "    for x in range(1000000):\n",
    "        z = x * x\n",
    "    print('another func done')\n",
    "\n",
    "def myfunction():\n",
    "    for i in range(5):\n",
    "        another()\n",
    "        print('bing %i' % (i))\n",
    "        for j in range(5000000):\n",
    "            y = i * i"
   ]
  },
  {
   "cell_type": "code",
   "execution_count": 25,
   "metadata": {},
   "outputs": [
    {
     "name": "stdout",
     "output_type": "stream",
     "text": [
      "another func done\n",
      "bing 0\n",
      "another func done\n",
      "bing 1\n",
      "another func done\n",
      "bing 2\n",
      "another func done\n",
      "bing 3\n",
      "another func done\n",
      "bing 4\n",
      "         285 function calls in 1.063 seconds\n",
      "\n",
      "   Ordered by: standard name\n",
      "\n",
      "   ncalls  tottime  percall  cumtime  percall filename:lineno(function)\n",
      "        5    0.213    0.043    0.213    0.043 <ipython-input-24-1ada111a7d6c>:4(another)\n",
      "        1    0.849    0.849    1.063    1.063 <ipython-input-24-1ada111a7d6c>:9(myfunction)\n",
      "       24    0.000    0.000    0.001    0.000 iostream.py:180(schedule)\n",
      "       20    0.000    0.000    0.000    0.000 iostream.py:284(_is_master_process)\n",
      "       20    0.000    0.000    0.000    0.000 iostream.py:297(_schedule_flush)\n",
      "       20    0.000    0.000    0.001    0.000 iostream.py:342(write)\n",
      "       24    0.000    0.000    0.000    0.000 iostream.py:87(_event_pipe)\n",
      "       24    0.000    0.000    0.000    0.000 threading.py:1062(_wait_for_tstate_lock)\n",
      "       24    0.000    0.000    0.000    0.000 threading.py:1104(is_alive)\n",
      "       24    0.000    0.000    0.000    0.000 threading.py:506(is_set)\n",
      "       20    0.000    0.000    0.000    0.000 {built-in method builtins.isinstance}\n",
      "       10    0.000    0.000    0.001    0.000 {built-in method builtins.print}\n",
      "       20    0.000    0.000    0.000    0.000 {built-in method posix.getpid}\n",
      "       24    0.000    0.000    0.000    0.000 {built-in method posix.urandom}\n",
      "       24    0.000    0.000    0.000    0.000 {method 'acquire' of '_thread.lock' objects}\n",
      "        1    0.000    0.000    0.000    0.000 {method 'disable' of '_lsprof.Profiler' objects}\n",
      "\n",
      "\n"
     ]
    }
   ],
   "source": [
    "import cProfile\n",
    "profiler = cProfile.Profile()\n",
    "profiler.runcall(myfunction)\n",
    "profiler.print_stats()"
   ]
  },
  {
   "cell_type": "code",
   "execution_count": 26,
   "metadata": {},
   "outputs": [
    {
     "name": "stdout",
     "output_type": "stream",
     "text": [
      "another func done\n",
      "bing 0\n",
      "another func done\n",
      "bing 1\n",
      "another func done\n",
      "bing 2\n",
      "another func done\n",
      "bing 3\n",
      "another func done\n",
      "bing 4\n",
      " \n",
      "*** Profile printout saved to text file 'prun.prof'. \n"
     ]
    }
   ],
   "source": [
    "%prun -T prun.prof myfunction()"
   ]
  },
  {
   "cell_type": "code",
   "execution_count": 27,
   "metadata": {},
   "outputs": [
    {
     "name": "stdout",
     "output_type": "stream",
     "text": [
      "another func done\n",
      "bing 0\n",
      "another func done\n",
      "bing 1\n",
      "another func done\n",
      "bing 2\n",
      "another func done\n",
      "bing 3\n",
      "another func done\n",
      "bing 4\n",
      " \n",
      "*** Profile stats marshalled to file '/var/folders/yx/v99n_ffj5qq5bgbxbn9yl2_40000gn/T/tmp5d2spdka'. \n"
     ]
    }
   ],
   "source": [
    "%snakeviz myfunction()"
   ]
  },
  {
   "cell_type": "code",
   "execution_count": 28,
   "metadata": {},
   "outputs": [
    {
     "name": "stdout",
     "output_type": "stream",
     "text": [
      "another func done\n",
      "bing 0\n",
      "another func done\n",
      "bing 1\n",
      "another func done\n",
      "bing 2\n",
      "another func done\n",
      "bing 3\n",
      "another func done\n",
      "bing 4\n"
     ]
    }
   ],
   "source": [
    "# line profiler (original install from wheel to avoid windows c compile problems)\n",
    "\n",
    "%reload_ext line_profiler\n",
    "%lprun -f myfunction myfunction()"
   ]
  },
  {
   "cell_type": "code",
   "execution_count": 29,
   "metadata": {},
   "outputs": [
    {
     "data": {
      "application/vnd.jupyter.widget-view+json": {
       "model_id": "e44635af15284fb3881b663c2debc1a1"
      }
     },
     "metadata": {},
     "output_type": "display_data"
    }
   ],
   "source": [
    "from ipywidgets import interact\n",
    "\n",
    "@interact\n",
    "def echo(input='Hi', times=[1,5,1]):\n",
    "    return (input + \" \") * times"
   ]
  },
  {
   "cell_type": "code",
   "execution_count": null,
   "metadata": {
    "collapsed": true
   },
   "outputs": [],
   "source": [
    "# jupyter nbconvert \"data science tinkering.ipynb\" --to slides --post serve"
   ]
  },
  {
   "cell_type": "code",
   "execution_count": null,
   "metadata": {
    "collapsed": true
   },
   "outputs": [],
   "source": []
  },
  {
   "cell_type": "code",
   "execution_count": null,
   "metadata": {
    "collapsed": true
   },
   "outputs": [],
   "source": []
  },
  {
   "cell_type": "code",
   "execution_count": null,
   "metadata": {
    "collapsed": true
   },
   "outputs": [],
   "source": []
  },
  {
   "cell_type": "code",
   "execution_count": null,
   "metadata": {
    "collapsed": true
   },
   "outputs": [],
   "source": []
  },
  {
   "cell_type": "code",
   "execution_count": null,
   "metadata": {
    "collapsed": true
   },
   "outputs": [],
   "source": []
  },
  {
   "cell_type": "code",
   "execution_count": null,
   "metadata": {
    "collapsed": true
   },
   "outputs": [],
   "source": []
  },
  {
   "cell_type": "code",
   "execution_count": null,
   "metadata": {
    "collapsed": true
   },
   "outputs": [],
   "source": []
  },
  {
   "cell_type": "code",
   "execution_count": null,
   "metadata": {
    "collapsed": true
   },
   "outputs": [],
   "source": []
  },
  {
   "cell_type": "code",
   "execution_count": null,
   "metadata": {
    "collapsed": true
   },
   "outputs": [],
   "source": []
  },
  {
   "cell_type": "code",
   "execution_count": null,
   "metadata": {
    "collapsed": true
   },
   "outputs": [],
   "source": []
  }
 ],
 "metadata": {
  "anaconda-cloud": {},
  "kernelspec": {
   "display_name": "Python 3",
   "language": "python",
   "name": "python3"
  },
  "language_info": {
   "codemirror_mode": {
    "name": "ipython",
    "version": 3
   },
   "file_extension": ".py",
   "mimetype": "text/x-python",
   "name": "python",
   "nbconvert_exporter": "python",
   "pygments_lexer": "ipython3",
   "version": "3.6.1"
  }
 },
 "nbformat": 4,
 "nbformat_minor": 1
}
