{
 "cells": [
  {
   "cell_type": "code",
   "execution_count": null,
   "metadata": {
    "collapsed": false,
    "nbpresent": {
     "id": "46346b1b-7268-45a9-a552-217143112d64"
    },
    "slideshow": {
     "slide_type": "slide"
    }
   },
   "outputs": [],
   "source": [
    "# Common imports\n",
    "%matplotlib inline\n",
    "import pandas as pd\n",
    "import numpy as np\n",
    "import statsmodels.api as sm\n",
    "import matplotlib.pyplot as plt\n",
    "import seaborn as sns  #need to conda install seaborn\n",
    "import sys\n",
    "getsize=sys.getsizeof\n",
    "#pd.set_option('max_columns', 50)"
   ]
  },
  {
   "cell_type": "code",
   "execution_count": null,
   "metadata": {
    "collapsed": false,
    "nbpresent": {
     "id": "4635a57e-74e2-4098-a7ca-e682c5421a16"
    },
    "slideshow": {
     "slide_type": "fragment"
    }
   },
   "outputs": [],
   "source": [
    "# Pandas Series and Dataframes\n",
    "\n",
    "import pandas as pd\n",
    "# pandas Series example\n",
    "s = pd.Series([7, 'Heisenberg', 3.14, -1789710578, 'Happy Eating!'],\n",
    "              index=['A', 'Z', 'C', 'Y', 'E'])\n",
    "print('\\nSERIES WITH INDEX\\n' + str(s))\n",
    "d = {'Chicago': 1000, 'New York': 1300, 'Portland': 900, 'San Francisco': 1100,\n",
    "     'Austin': 450, 'Boston': None}\n",
    "cities = pd.Series(d)\n",
    "print('\\nSERIES FROM DICT\\n' + str(cities))\n",
    "\n",
    "# pandas Dataframe examples\n",
    "data = {'year': [2010, 2011, 2012, 2011, 2012, 2010, 2011, 2012],\n",
    "        'team': ['Bears', 'Bears', 'Bears', 'Packers', 'Packers', 'Lions', 'Lions', 'Lions'],\n",
    "        'wins': [11, 8, 10, 15, 11, 6, 10, 4],\n",
    "        'losses': [5, 8, 6, 1, 5, 10, 6, 12]}\n",
    "football = pd.DataFrame(data, columns=['year', 'team', 'wins', 'losses'])\n",
    "football.head()\n",
    "football.to_excel('data/football.xlsx', index=False)\n",
    "football1 = pd.read_excel('data/football.xlsx', 'Sheet1')\n",
    "football1\n",
    "\n",
    "plt.rcParams[\"figure.figsize\"] = (10,7)\n",
    "football.wins.plot.bar()  # plot options: area, bar, barh, box, density, hist, kde, line, pie\n",
    "plt.title(\"plot of football wins\")\n",
    "plt.ylabel('number of wins')\n",
    "plt.xlabel('wins')\n",
    "\n",
    "# graphical filtering of dataframe \n",
    "import qgrid\n",
    "qgrid.nbinstall(overwrite=True)\n",
    "qgrid.set_defaults(remote_js=True)\n",
    "#need to click export for some reason to get to appear\n",
    "qgrid.show_grid(football, show_toolbar=True)"
   ]
  },
  {
   "cell_type": "code",
   "execution_count": null,
   "metadata": {
    "collapsed": false,
    "nbpresent": {
     "id": "8314d51b-84ab-4782-ba3e-ca492a7b8fb3"
    },
    "slideshow": {
     "slide_type": "slide"
    }
   },
   "outputs": [],
   "source": [
    "# pandas loading a dataframe\n",
    "\n",
    "from IPython.display import IFrame\n",
    "import pandas as pd\n",
    "# READING FROM A TEXT FILE\n",
    "#from_csv = pd.read_csv('pandas_data.csv')\n",
    "#from_csv.head()\n",
    "\n",
    "# READING FROM A SQL DATABASE\n",
    "from sqlalchemy import create_engine\n",
    "from pandas.io import sql\n",
    "\n",
    "db = create_engine('sqlite:///data/sample1.db')\n",
    "conn = db.connect()\n",
    "#creation = conn.execute(\"Create table btable (a varchar(10))\")\n",
    "insertion = conn.execute(\"Insert into btable values ('hello')\" )\n",
    "query = 'SELECT * from btable'\n",
    "selection = conn.execute(query)\n",
    "#for row in selection:\n",
    "#    print(\"AAAA:\", row['a'])\n",
    "df1 = sql.read_sql(query, con=conn)\n",
    "print(df1.head())\n",
    "\n",
    "# READ FROM THE CLIPBOARD\n",
    "#df = pd.read_clipboard()\n",
    "#df.head()\n",
    "\n",
    "#READ FROM URL\n",
    "url = 'https://raw.github.com/gjreda/best-sandwiches/master/data/best-sandwiches-geocode.tsv'\n",
    "from_url = pd.read_table(url, sep='\\t')\n",
    "#from_url.head()\n",
    "\n",
    "#IFrame('http://www.eia.gov/coal/data.cfm',width=700,height=350)\n",
    "IFrame('https://www.vocalink.com/media/1518/valacdos.txt',width=700,height=350)"
   ]
  },
  {
   "cell_type": "code",
   "execution_count": null,
   "metadata": {
    "collapsed": false,
    "nbpresent": {
     "id": "a84226d0-5134-43d9-8b7f-a150a9e9465f"
    },
    "slideshow": {
     "slide_type": "slide"
    }
   },
   "outputs": [],
   "source": [
    "# pandas data manipulation\n",
    "\n",
    "heading = ['classify', 'message']\n",
    "sms = pd.read_table('data/sms.txt', header=None, names = heading)\n",
    "print('info:\\n',sms.info(),'\\n')\n",
    "print('dtypes:\\n',sms.dtypes,'\\n')\n",
    "#print(sms.head(),'\\n')\n",
    "print('slice:\\n',sms[:2],'\\n')\n",
    "print('filter:\\n',sms[(sms.classify == 'spam') & (sms.message != 'qwe')].head(),'\\n')\n",
    "print('loc:\\n',sms.loc[100],'\\n')\n",
    "#print('describe:\\n',sms.describe,'\\n')\n",
    "\n",
    "sms1 = sms.copy()\n",
    "newsms = pd.merge(sms, sms1, on='classify', how='inner')  # equivalent of SQL inner join, \n",
    "# outer joins are how='left', how='right', how='outer\n",
    "newsms1 = pd.concat([sms, sms1])\n",
    "newsms2 = pd.concat([sms, sms1], axis=1)\n",
    "\n",
    "#grouping data like with SQL groupby\n",
    "newsms3 = sms.groupby('classify')\n",
    "pd.unique(sms.classify)\n",
    "\n",
    "print('count:\\n',sms.count(),'\\n')\n",
    "print('size:\\n',sms.size,'\\n')\n",
    "#newsms.sum()\n",
    "#newsms.mean()\n",
    "#newsms.median()\n",
    "print('groupby:\\n',sms.groupby('classify').size().sort_values(ascending=False)[:25],'\\n')\n",
    "print('value_counts\\n',sms.classify.value_counts()[:25],'\\n')"
   ]
  },
  {
   "cell_type": "code",
   "execution_count": 1,
   "metadata": {
    "collapsed": true
   },
   "outputs": [],
   "source": [
    "# get lots of data in parallel using multiprocessing (DOSENT WORK ON WINDOWS)\n",
    "\n",
    "import requests\n",
    "from multiprocessing import Process, Manager\n",
    "import json\n",
    "import pandas as pd\n",
    "\n",
    "def get_story(story_id, stories):\n",
    "    url = 'https://hacker-news.firebaseio.com/v0/item/%d.json' % story_id\n",
    "    resp = requests.get(url)\n",
    "    stories.append(resp.json())\n",
    "    \n",
    "def get_top_stories():\n",
    "    manager = Manager()\n",
    "    stories = manager.list()\n",
    "    url = 'https://hacker-news.firebaseio.com/v0/topstories.json'\n",
    "    ids = requests.get(url)\n",
    "    processes = [Process(target=get_story, args=(sid, stories))\n",
    "                 for sid in ids.json()]\n",
    "    for p in processes:\n",
    "        p.start()\n",
    "    for p in processes:\n",
    "        p.join()\n",
    "    return stories\n",
    "\n",
    "#top_stories = get_top_stories()\n",
    "#list(top_stories)"
   ]
  },
  {
   "cell_type": "code",
   "execution_count": null,
   "metadata": {
    "collapsed": false
   },
   "outputs": [],
   "source": [
    "# train and test split with Pandas\n",
    "\n",
    "data = pd.DataFrame(np.random.randn(100, 2))\n",
    "train=data.sample(frac=0.6,random_state=20)\n",
    "\n",
    "temp=data.drop(train.index)\n",
    "test=temp.sample(frac=0.5,random_state=20)\n",
    "csv=temp.drop(test.index)\n",
    "del temp\n",
    "\n",
    "len(train.index), len(test.index), len(csv.index)"
   ]
  },
  {
   "cell_type": "code",
   "execution_count": null,
   "metadata": {
    "collapsed": true
   },
   "outputs": [],
   "source": [
    "# Column-wise correlation to support Item collaberative filtering\n",
    "\n",
    "import pandas as pd\n",
    "import numpy as np\n",
    "\n",
    "r_cols = ['user_id', 'movie_id', 'rating']\n",
    "ratings = pd.read_csv('ml-100k/u.data', sep='\\t', names=r_cols, usecols=range(3), encoding=\"ISO-8859-1\")\n",
    "m_cols = ['movie_id', 'title']\n",
    "movies = pd.read_csv('ml-100k/u.item', sep='|', names=m_cols, usecols=range(2), encoding=\"ISO-8859-1\")\n",
    "ratings = pd.merge(movies, ratings)\n",
    "\n",
    "userRatings = ratings.pivot_table(index=['user_id'],columns=['title'],values='rating')\n",
    "#userRatings.head()\n",
    "\n",
    "corrMatrix = userRatings.corr(method='pearson', min_periods=100)\n",
    "#corrMatrix.head()\n",
    "\n",
    "#Now let's produce some movie recommendations for user ID 0, who I manually added to the data set as a test case. \n",
    "#This guy really likes Star Wars and The Empire Strikes Back, but hated Gone with the Wind. I'll extract his ratings \n",
    "#from the userRatings DataFrame, and use dropna() to get rid of missing data (leaving me only with a Series of the movies \n",
    "#I actually rated:)\n",
    "myRatings = userRatings.loc[0].dropna()\n",
    "myRatings\n",
    "\n",
    "#Now, let's go through each movie I rated one at a time, and build up a list of possible recommendations based on the \n",
    "#movies similar to the ones I rated. So for each movie I rated, I'll retrieve the list of similar movies from our \n",
    "#correlation matrix. I'll then scale those correlation scores by how well I rated the movie they are similar to, so movies \n",
    "#similar to ones I liked count more than movies similar to ones I hated:\n",
    "simCandidates = pd.Series()\n",
    "for i in range(0, len(myRatings.index)):\n",
    "    print (\"Adding sims for \" + myRatings.index[i] + \"...\")\n",
    "    # Retrieve similar movies to this one that I rated\n",
    "    sims = corrMatrix[myRatings.index[i]].dropna()\n",
    "    # Now scale its similarity by how well I rated this movie\n",
    "    sims = sims.map(lambda x: x * myRatings[i])\n",
    "    # Add the score to the list of similarity candidates\n",
    "    simCandidates = simCandidates.append(sims)\n",
    "    \n",
    "#Glance at our results so far:\n",
    "print (\"sorting...\")\n",
    "simCandidates.sort_values(inplace = True, ascending = False)\n",
    "print (simCandidates.head(10))\n",
    "\n",
    "#This is starting to look like something useful! Note that some of the same movies came up more than once, \n",
    "#because they were similar to more than one movie I rated. We'll use groupby() to add together the scores from movies \n",
    "#that show up more than once, so they'll count more:\n",
    "simCandidates = simCandidates.groupby(simCandidates.index).sum()\n",
    "\n",
    "simCandidates.sort_values(inplace = True, ascending = False)\n",
    "simCandidates.head(10)\n",
    "#The last thing we have to do is filter out movies I've already rated, \n",
    "filteredSims = simCandidates.drop(myRatings.index)\n",
    "filteredSims.head(10)"
   ]
  },
  {
   "cell_type": "code",
   "execution_count": null,
   "metadata": {
    "collapsed": false,
    "nbpresent": {
     "id": "454cb072-b188-4e30-8d62-a680dd96af60"
    },
    "slideshow": {
     "slide_type": "slide"
    }
   },
   "outputs": [],
   "source": [
    "# matplotlib plotting, pie chart, bar chart\n",
    "\n",
    "from math import log, sin, pi\n",
    "from scipy.special import expit\n",
    "import numpy as np\n",
    "import matplotlib.pyplot as plt\n",
    "%matplotlib inline\n",
    "plt.style.use('seaborn-notebook')  #plt.style.use('bmh')\n",
    "plt.rcParams.update({'font.size': 20, 'font.family': 'sans-serif'})\n",
    "\n",
    "# Set up runtime comparisons\n",
    "n = np.linspace(1,10,1000)\n",
    "labels = ['Constant','Logarithmic','Linear','Log Linear','Quadratic','Cubic','Exponential','Sine', 'Sigmoid']\n",
    "big_o = [np.ones(n.shape), np.log(n), n, n*np.log(n), n**2, n**3, 2**n,  np.sin(n*4)*10+10, expit(n-5)*20]\n",
    "# Plot setup\n",
    "plt.figure(figsize=(12,8))\n",
    "plt.ylim(0,50)\n",
    "for i in range(len(big_o)):\n",
    "    plt.plot(n,big_o[i],label = labels[i], linewidth=3)\n",
    "plt.legend(loc='best')\n",
    "plt.ylabel(r'$y = \\alpha$', fontsize=20)\n",
    "plt.xlabel(r'$x = \\beta$', fontsize=20)\n",
    "plt.grid(True)\n",
    "plt.annotate('An Interesting Point', xy=(5, 20), arrowprops=dict(arrowstyle='->'), xytext=(3.1, 25))\n",
    "plt.show()\n",
    "# plt.savefig('C:\\\\Users\\\\Graham\\Desktop\\\\qwe.jpg')\n",
    "\n",
    "values = [12, 55, 4, 32, 14]\n",
    "colors = ['r', 'g', 'b', 'c', 'm']\n",
    "explode = [0, 0, 0.1, 0, 0.1]\n",
    "labels = ['India', 'United States', 'Russia', 'China', 'Europe']\n",
    "plt.figure(figsize=(12,8))\n",
    "plt.pie(values, colors= colors, labels=labels, explode = explode)\n",
    "plt.title('Student Locations')\n",
    "plt.show()\n",
    "\n",
    "values = [12, 55, 4, 32, 14]\n",
    "colors = ['r', 'g', 'b', 'c', 'm']\n",
    "plt.yscale(\"log\")\n",
    "plt.bar(range(0,5), values, color= colors)\n",
    "plt.show()\n",
    "\n",
    "uniformSkewed = np.random.rand(100) * 100 - 40\n",
    "high_outliers = np.random.rand(10) * 50 + 100\n",
    "low_outliers = np.random.rand(10) * -50 - 100\n",
    "data = np.concatenate((uniformSkewed, high_outliers, low_outliers))\n",
    "plt.boxplot(data)\n",
    "plt.show()"
   ]
  },
  {
   "cell_type": "code",
   "execution_count": null,
   "metadata": {
    "collapsed": false,
    "nbpresent": {
     "id": "67b4cdd7-3b9e-4f7b-bfb9-cb8e3abe13eb"
    },
    "slideshow": {
     "slide_type": "slide"
    }
   },
   "outputs": [],
   "source": [
    "# scatter plotting to find correlations\n",
    "\n",
    "from pandas.tools.plotting import scatter_matrix\n",
    "import seaborn as sns\n",
    "import pandas as pd\n",
    "\n",
    "df1=pd.DataFrame(np.random.randn(200,4), columns=['C1', 'C2', 'C3','C4'])\n",
    "df1['C5'] = df1['C4'] * df1['C3'] * 10\n",
    "df1['C6'] = df1['C3'].div(3).round(decimals=1)\n",
    "df1.plot.scatter('C1','C5',figsize=(5,4))\n",
    "sns.pairplot(df1[['C1','C2','C3','C6']], hue='C6') #investigate correlation between pairs\n",
    "scatter_matrix(df1, alpha=0.2, figsize=(8, 8), diagonal='kde')\n",
    "df1.describe()"
   ]
  },
  {
   "cell_type": "code",
   "execution_count": null,
   "metadata": {
    "collapsed": false,
    "nbpresent": {
     "id": "73d0c19d-e28e-451f-97ee-fe293f59782c"
    },
    "slideshow": {
     "slide_type": "fragment"
    }
   },
   "outputs": [],
   "source": [
    "# slider input of parameters\n",
    "\n",
    "import matplotlib.pyplot as plt \n",
    "from ipywidgets import interact\n",
    "%matplotlib inline\n",
    "#plt.rcParams[\"figure.figsize\"] = (6,6)\n",
    "\n",
    "@interact\n",
    "def echo(split=[0,100]):\n",
    "    plt.pie([split/100, 1-split/100], labels=['this split','that split'])\n",
    "    plt.show()"
   ]
  },
  {
   "cell_type": "code",
   "execution_count": null,
   "metadata": {
    "collapsed": false
   },
   "outputs": [],
   "source": [
    "# general plotting tinkering\n",
    "\n",
    "%matplotlib inline\n",
    "import pandas as pd\n",
    "import numpy as np\n",
    "import matplotlib.pyplot as plt\n",
    "\n",
    "np.random.seed(1)\n",
    "price = pd.Series(np.random.randn(155).cumsum()+1, index=pd.date_range('2001-01-01', periods=155, freq='B'))\n",
    "mavg20 = price.rolling(20).mean()\n",
    "mstd20 = price.rolling(20).std()\n",
    "mavg5 = price.rolling(5).mean()\n",
    "\n",
    "plt.figure(figsize=(16,8)); plt.grid(True)\n",
    "plt.plot(price.index, price, c='k')\n",
    "plt.plot(mavg20.index, mavg20, c='b')\n",
    "plt.plot(mavg5.index, mavg5, c='r')\n",
    "plt.fill_between(mstd20.index, mavg20-2*mstd20, mavg20+2*mstd20, color='b', alpha=0.2)"
   ]
  },
  {
   "cell_type": "code",
   "execution_count": null,
   "metadata": {
    "collapsed": false
   },
   "outputs": [],
   "source": [
    "# correlation and covariance\n",
    "\n",
    "#np.random.seed(10)\n",
    "size=100000\n",
    "X = np.matrix(np.random.randn(size))\n",
    "Y = np.matrix(np.random.randn(size))\n",
    "X = X + Y * 0.11 # intrroduce random noise\n",
    "Xv = X - X.mean()\n",
    "Yv = Y - Y.mean()\n",
    "\n",
    "result = Xv * Yv.T\n",
    "cov = float(result[[0]]) / size\n",
    "corr = cov / X.std() / Y.std()\n",
    "print(corr, cov)\n",
    "\n",
    "np.corrcoef(X, Y)[0][1]"
   ]
  },
  {
   "cell_type": "code",
   "execution_count": null,
   "metadata": {
    "collapsed": false
   },
   "outputs": [],
   "source": [
    "#storing dataframes in CSV and HDF\n",
    "\n",
    "%matplotlib inline\n",
    "import pandas as pd\n",
    "import numpy as np\n",
    "import matplotlib.pyplot as plt\n",
    "df1 = pd.DataFrame(pd.date_range(pd.datetime(2016, 1, 1), pd.datetime(2016, 1, 10)))\n",
    "df1.columns=['date']\n",
    "df1.to_csv('data/store.csv')\n",
    "\n",
    "store = pd.HDFStore('data/store.h5')\n",
    "store['df1'] =df1\n",
    "store.flush\n",
    "store['df1']"
   ]
  },
  {
   "cell_type": "code",
   "execution_count": null,
   "metadata": {
    "collapsed": false
   },
   "outputs": [],
   "source": [
    "# panel data structure, pandas IO demo, cutting dataframes\n",
    "\n",
    "%matplotlib inline\n",
    "import pandas as pd\n",
    "import numpy as np\n",
    "import matplotlib.pyplot as plt\n",
    "import pandas.io.data as pdio\n",
    "pd.options.display.float_format = '{:,.3f}'.format\n",
    "start = pd.to_datetime('2016-01-01')\n",
    "end = pd.to_datetime('2016-01-31')\n",
    "tickers = ['MSI', 'ORCL']\n",
    "msi = pdio.get_data_yahoo(tickers[0], start=start, end=end)\n",
    "pan = pdio.get_data_yahoo(tickers, start=start, end=end)\n",
    "pan"
   ]
  },
  {
   "cell_type": "code",
   "execution_count": null,
   "metadata": {
    "collapsed": false
   },
   "outputs": [],
   "source": [
    "pan.minor_xs('MSI')"
   ]
  },
  {
   "cell_type": "code",
   "execution_count": null,
   "metadata": {
    "collapsed": false
   },
   "outputs": [],
   "source": [
    "pan.major_xs('2016-01-04')"
   ]
  },
  {
   "cell_type": "code",
   "execution_count": null,
   "metadata": {
    "collapsed": false,
    "scrolled": false
   },
   "outputs": [],
   "source": [
    "df = pan.to_frame()\n",
    "df.reset_index(inplace=True)\n",
    "df"
   ]
  },
  {
   "cell_type": "code",
   "execution_count": null,
   "metadata": {
    "collapsed": false,
    "scrolled": false
   },
   "outputs": [],
   "source": [
    "df.rename(columns={'minor': 'Ticker'}, inplace=True)\n",
    "df['Day'] = df.Date.dt.weekday_name\n",
    "df['DayN'] = df.Date.dt.weekday\n",
    "ranges = [0, 1000000, 10000000, 100000000]\n",
    "labels = ['Low', 'Medium', 'High']\n",
    "df['Turnover'] = pd.cut(df.Volume, bins=ranges, labels=labels)\n",
    "mapper = {'MSI': 'Motorola', 'ORCL': 'Oracle'}\n",
    "df.insert(2, 'Name', df.Ticker.map(mapper) )\n",
    "df"
   ]
  },
  {
   "cell_type": "code",
   "execution_count": null,
   "metadata": {
    "collapsed": false
   },
   "outputs": [],
   "source": [
    "pd.options.display.float_format = '{:,.3f}'.format\n",
    "df1=df.groupby(['Name', 'DayN', 'Day']).mean().reset_index().drop('DayN', axis=1)\n",
    "df1"
   ]
  },
  {
   "cell_type": "code",
   "execution_count": null,
   "metadata": {
    "collapsed": true
   },
   "outputs": [],
   "source": []
  },
  {
   "cell_type": "code",
   "execution_count": null,
   "metadata": {
    "collapsed": true
   },
   "outputs": [],
   "source": []
  },
  {
   "cell_type": "code",
   "execution_count": null,
   "metadata": {
    "collapsed": true
   },
   "outputs": [],
   "source": []
  },
  {
   "cell_type": "code",
   "execution_count": null,
   "metadata": {
    "collapsed": true
   },
   "outputs": [],
   "source": []
  },
  {
   "cell_type": "code",
   "execution_count": null,
   "metadata": {
    "collapsed": true
   },
   "outputs": [],
   "source": []
  },
  {
   "cell_type": "code",
   "execution_count": null,
   "metadata": {
    "collapsed": true
   },
   "outputs": [],
   "source": []
  },
  {
   "cell_type": "code",
   "execution_count": null,
   "metadata": {
    "collapsed": true
   },
   "outputs": [],
   "source": []
  },
  {
   "cell_type": "code",
   "execution_count": null,
   "metadata": {
    "collapsed": true
   },
   "outputs": [],
   "source": []
  },
  {
   "cell_type": "code",
   "execution_count": null,
   "metadata": {
    "collapsed": true
   },
   "outputs": [],
   "source": []
  },
  {
   "cell_type": "code",
   "execution_count": null,
   "metadata": {
    "collapsed": true
   },
   "outputs": [],
   "source": []
  },
  {
   "cell_type": "code",
   "execution_count": null,
   "metadata": {
    "collapsed": true
   },
   "outputs": [],
   "source": []
  },
  {
   "cell_type": "code",
   "execution_count": null,
   "metadata": {
    "collapsed": true
   },
   "outputs": [],
   "source": []
  },
  {
   "cell_type": "code",
   "execution_count": null,
   "metadata": {
    "collapsed": true
   },
   "outputs": [],
   "source": []
  }
 ],
 "metadata": {
  "anaconda-cloud": {},
  "kernelspec": {
   "display_name": "Python [Root]",
   "language": "python",
   "name": "Python [Root]"
  },
  "language_info": {
   "codemirror_mode": {
    "name": "ipython",
    "version": 3
   },
   "file_extension": ".py",
   "mimetype": "text/x-python",
   "name": "python",
   "nbconvert_exporter": "python",
   "pygments_lexer": "ipython3",
   "version": "3.5.2"
  },
  "nbpresent": {
   "slides": {
    "4a8c2ffe-5649-4a97-9219-08d5c8cc0bf1": {
     "id": "4a8c2ffe-5649-4a97-9219-08d5c8cc0bf1",
     "prev": "6fca60b6-77a4-437b-9559-9f329df66e3b",
     "regions": {
      "063a9150-5764-4105-adcb-6326effc3ab5": {
       "attrs": {
        "height": 0.4,
        "width": 0.8,
        "x": 0.1,
        "y": 0.5
       },
       "content": {
        "cell": "15901a67-35a6-4625-a8b1-46258846df31",
        "part": "whole"
       },
       "id": "063a9150-5764-4105-adcb-6326effc3ab5"
      },
      "2a12c131-7934-43ed-9b19-f395cfb6b467": {
       "attrs": {
        "height": 0.4,
        "width": 0.8,
        "x": 0.1,
        "y": 0.5
       },
       "content": {
        "cell": "a0bebf51-25d6-4854-8df2-c9b4da1b6e0c",
        "part": "whole"
       },
       "id": "2a12c131-7934-43ed-9b19-f395cfb6b467"
      },
      "46e40a19-cadf-45a4-8d8f-5fdd092729cd": {
       "attrs": {
        "height": 0.4,
        "width": 0.8,
        "x": 0.1,
        "y": 0.5
       },
       "content": {
        "cell": "69bf469f-8e69-489d-a731-ce9526170aba",
        "part": "whole"
       },
       "id": "46e40a19-cadf-45a4-8d8f-5fdd092729cd"
      },
      "576682ac-1b6b-4b9c-9b6d-9bdbc8dd33a8": {
       "attrs": {
        "height": 0.4,
        "width": 0.8,
        "x": 0.1,
        "y": 0.5
       },
       "content": {
        "cell": "95919a95-8d25-4cdb-826f-4c52842d90d1",
        "part": "whole"
       },
       "id": "576682ac-1b6b-4b9c-9b6d-9bdbc8dd33a8"
      },
      "8ce7de4b-b258-4c33-8c82-b837ba4fe97b": {
       "attrs": {
        "height": 0.4,
        "width": 0.8,
        "x": 0.1,
        "y": 0.5
       },
       "content": {
        "cell": "adbbb3fe-5bf4-4bcd-adee-38415e003e70",
        "part": "whole"
       },
       "id": "8ce7de4b-b258-4c33-8c82-b837ba4fe97b"
      },
      "94faa8b4-578c-4dce-8d08-69f93b821fe7": {
       "attrs": {
        "height": 0.4,
        "width": 0.8,
        "x": 0.1,
        "y": 0.5
       },
       "content": {
        "cell": "fd656db1-9daf-4bfd-ba50-ff4710752bd0",
        "part": "whole"
       },
       "id": "94faa8b4-578c-4dce-8d08-69f93b821fe7"
      },
      "9a4dc549-238c-4470-adf0-f6b0e3ae3625": {
       "attrs": {
        "height": 0.4,
        "width": 0.8,
        "x": 0.1,
        "y": 0.5
       },
       "content": {
        "cell": "5d2019b8-08e6-4a08-983b-e02dcb0f835b",
        "part": "whole"
       },
       "id": "9a4dc549-238c-4470-adf0-f6b0e3ae3625"
      },
      "af6ea0f2-7b31-4a6a-a3e6-721ddb8f7cb2": {
       "attrs": {
        "height": 0.4,
        "width": 0.8,
        "x": 0.1,
        "y": 0.5
       },
       "content": {
        "cell": "e9147c58-b481-4c95-9dee-644ae81fc940",
        "part": "whole"
       },
       "id": "af6ea0f2-7b31-4a6a-a3e6-721ddb8f7cb2"
      },
      "b09fb11d-eb0d-4ab7-833f-f8f99c25aa6b": {
       "attrs": {
        "height": 0.4,
        "width": 0.8,
        "x": 0.1,
        "y": 0.5
       },
       "content": {
        "cell": "d5219b38-d0bc-4cdf-aef4-6c23962cc9e7",
        "part": "whole"
       },
       "id": "b09fb11d-eb0d-4ab7-833f-f8f99c25aa6b"
      },
      "b2c81474-9515-4198-9e08-67bc7724fc6c": {
       "attrs": {
        "height": 0.4,
        "width": 0.8,
        "x": 0.1,
        "y": 0.5
       },
       "content": {
        "cell": "f987982f-74b8-4bca-a1d7-6da9b49ce0ac",
        "part": "whole"
       },
       "id": "b2c81474-9515-4198-9e08-67bc7724fc6c"
      },
      "bc032d91-7b60-4e27-9d5c-8dd8bf603415": {
       "attrs": {
        "height": 0.4,
        "width": 0.8,
        "x": 0.1,
        "y": 0.5
       },
       "content": {
        "cell": "f2890ae2-0240-4a4a-9b4b-88f02e8b1a9a",
        "part": "whole"
       },
       "id": "bc032d91-7b60-4e27-9d5c-8dd8bf603415"
      },
      "e2d4bf79-3336-4bb5-8a60-77152bc2eb35": {
       "attrs": {
        "height": 0.4,
        "width": 0.8,
        "x": 0.1,
        "y": 0.5
       },
       "content": {
        "cell": "782f00b2-9afc-49e7-a2e2-2af5fa60bed1",
        "part": "whole"
       },
       "id": "e2d4bf79-3336-4bb5-8a60-77152bc2eb35"
      },
      "f184b463-e908-404d-8313-4a93ac63eeb6": {
       "attrs": {
        "height": 0.8,
        "width": 0.8,
        "x": 0.1,
        "y": 0.1
       },
       "content": {
        "cell": "73d0c19d-e28e-451f-97ee-fe293f59782c",
        "part": "whole"
       },
       "id": "f184b463-e908-404d-8313-4a93ac63eeb6"
      }
     }
    },
    "6fca60b6-77a4-437b-9559-9f329df66e3b": {
     "id": "6fca60b6-77a4-437b-9559-9f329df66e3b",
     "prev": "b7ab1f3f-af37-4a75-88ac-c00dde9b7e48",
     "regions": {
      "ac1b1ca7-6008-40b4-b5ab-bdbaa243d8e8": {
       "attrs": {
        "height": 0.8,
        "width": 0.8,
        "x": 0.1,
        "y": 0.1
       },
       "content": {
        "cell": "e7b3af93-b294-41a6-a9e4-eac1859099d7",
        "part": "whole"
       },
       "id": "ac1b1ca7-6008-40b4-b5ab-bdbaa243d8e8"
      }
     }
    },
    "b7ab1f3f-af37-4a75-88ac-c00dde9b7e48": {
     "id": "b7ab1f3f-af37-4a75-88ac-c00dde9b7e48",
     "prev": null,
     "regions": {
      "9fbe63fb-d101-4fa6-b2a7-7dee19057c5d": {
       "attrs": {
        "height": 0.8,
        "width": 0.8,
        "x": 0.1,
        "y": 0.1
       },
       "content": {
        "cell": "198e60d7-73b8-48a6-afbe-33fd9919ad62",
        "part": "whole"
       },
       "id": "9fbe63fb-d101-4fa6-b2a7-7dee19057c5d"
      }
     }
    }
   },
   "themes": {}
  }
 },
 "nbformat": 4,
 "nbformat_minor": 0
}
